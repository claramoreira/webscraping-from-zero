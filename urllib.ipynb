{
 "cells": [
  {
   "cell_type": "code",
   "execution_count": 1,
   "id": "deddf866",
   "metadata": {},
   "outputs": [],
   "source": [
    "import urllib\n",
    "import webbrowser\n",
    "\n",
    "from pprint import pprint"
   ]
  },
  {
   "cell_type": "code",
   "execution_count": 2,
   "id": "0f103a30",
   "metadata": {},
   "outputs": [],
   "source": [
    "bin_url = 'https://httpbin.org/'"
   ]
  },
  {
   "cell_type": "code",
   "execution_count": 3,
   "id": "7b874f7f",
   "metadata": {},
   "outputs": [
    {
     "data": {
      "text/plain": [
       "True"
      ]
     },
     "execution_count": 3,
     "metadata": {},
     "output_type": "execute_result"
    }
   ],
   "source": [
    "webbrowser.open(bin_url)"
   ]
  },
  {
   "cell_type": "code",
   "execution_count": 4,
   "id": "1f55f601",
   "metadata": {},
   "outputs": [
    {
     "data": {
      "text/plain": [
       "<http.client.HTTPResponse at 0x287e3ef5930>"
      ]
     },
     "execution_count": 4,
     "metadata": {},
     "output_type": "execute_result"
    }
   ],
   "source": [
    "resp = urllib.request.urlopen(bin_url)\n",
    "\n",
    "resp"
   ]
  },
  {
   "cell_type": "code",
   "execution_count": 5,
   "id": "03fb9daf",
   "metadata": {},
   "outputs": [
    {
     "data": {
      "text/plain": [
       "'https://httpbin.org/'"
      ]
     },
     "execution_count": 5,
     "metadata": {},
     "output_type": "execute_result"
    }
   ],
   "source": [
    "resp.geturl()"
   ]
  },
  {
   "cell_type": "code",
   "execution_count": 6,
   "id": "fc2aa492",
   "metadata": {},
   "outputs": [
    {
     "data": {
      "text/plain": [
       "200"
      ]
     },
     "execution_count": 6,
     "metadata": {},
     "output_type": "execute_result"
    }
   ],
   "source": [
    "resp.getcode()"
   ]
  },
  {
   "cell_type": "code",
   "execution_count": 7,
   "id": "8c29fe54",
   "metadata": {},
   "outputs": [
    {
     "name": "stdout",
     "output_type": "stream",
     "text": [
      "Date: Wed, 30 Mar 2022 19:47:50 GMT\n",
      "Content-Type: text/html; charset=utf-8\n",
      "Content-Length: 9593\n",
      "Connection: close\n",
      "Server: gunicorn/19.9.0\n",
      "Access-Control-Allow-Origin: *\n",
      "Access-Control-Allow-Credentials: true\n",
      "\n",
      "\n"
     ]
    }
   ],
   "source": [
    "print(resp.info())"
   ]
  },
  {
   "cell_type": "code",
   "execution_count": 9,
   "id": "6b991ad4",
   "metadata": {},
   "outputs": [
    {
     "name": "stdout",
     "output_type": "stream",
     "text": [
      "('<!DOCTYPE html>\\n'\n",
      " '<html lang=\"en\">\\n'\n",
      " '\\n'\n",
      " '<head>\\n'\n",
      " '    <meta charset=\"UTF-8\">\\n'\n",
      " '    <title>httpbin.org</title>\\n'\n",
      " '    <link '\n",
      " 'href=\"https://fonts.googleapis.com/css?family=Open+Sans:400,700|Source+Code+Pro:300,600|Titillium+Web:400,600,700\"\\n'\n",
      " '        rel=\"stylesheet\">\\n'\n",
      " '    <link rel=\"stylesheet\" type=\"text/css\" '\n",
      " 'href=\"/flasgger_static/swagger-ui.css\">\\n'\n",
      " '    <link rel=\"icon\" type=\"image/png\" href=\"/static/favicon.ico\" '\n",
      " 'sizes=\"64x64 32x32 16x16\" />\\n'\n",
      " '    <style>\\n'\n",
      " '        html {\\n'\n",
      " '            box-sizing: border-box;\\n'\n",
      " '            overflow: -moz-scrollbars-vertical;\\n'\n",
      " '            overflow-y: scroll;\\n'\n",
      " '        }\\n'\n",
      " '\\n'\n",
      " '        *,\\n'\n",
      " '        *:before,\\n'\n",
      " '        *:after {\\n'\n",
      " '            box-sizing: inherit;\\n'\n",
      " '        }\\n'\n",
      " '\\n'\n",
      " '        body {\\n'\n",
      " '            margin: 0;\\n'\n",
      " '            background: #fafafa;\\n'\n",
      " '        }\\n'\n",
      " '    </style>\\n'\n",
      " '</head>\\n'\n",
      " '\\n'\n",
      " '<body>\\n'\n",
      " '    <a href=\"https://github.com/requests/httpbin\" class=\"github-corner\" '\n",
      " 'aria-label=\"View source on Github\">\\n'\n",
      " '        <svg width=\"80\" height=\"80\" viewBox=\"0 0 250 250\" '\n",
      " 'style=\"fill:#151513; color:#fff; position: absolute; top: 0; border: 0; '\n",
      " 'right: 0;\"\\n'\n",
      " '            aria-hidden=\"true\">\\n'\n",
      " '            <path d=\"M0,0 L115,115 L130,115 L142,142 L250,250 L250,0 '\n",
      " 'Z\"></path>\\n'\n",
      " '            <path d=\"M128.3,109.0 C113.8,99.7 119.0,89.6 119.0,89.6 '\n",
      " 'C122.0,82.7 120.5,78.6 120.5,78.6 C119.2,72.0 123.4,76.3 123.4,76.3 '\n",
      " 'C127.3,80.9 125.5,87.3 125.5,87.3 C122.9,97.6 130.6,101.9 134.4,103.2\"\\n'\n",
      " '                fill=\"currentColor\" style=\"transform-origin: 130px 106px;\" '\n",
      " 'class=\"octo-arm\"></path>\\n'\n",
      " '            <path d=\"M115.0,115.0 C114.9,115.1 118.7,116.5 119.8,115.4 '\n",
      " 'L133.7,101.6 C136.9,99.2 139.9,98.4 142.2,98.6 C133.8,88.0 127.5,74.4 '\n",
      " '143.8,58.0 C148.5,53.4 154.0,51.2 159.7,51.0 C160.3,49.4 163.2,43.6 '\n",
      " '171.4,40.1 C171.4,40.1 176.1,42.5 178.8,56.2 C183.1,58.6 187.2,61.8 '\n",
      " '190.9,65.4 C194.5,69.0 197.7,73.2 200.1,77.6 C213.8,80.2 216.3,84.9 '\n",
      " '216.3,84.9 C212.7,93.1 206.9,96.0 205.4,96.6 C205.1,102.4 203.0,107.8 '\n",
      " '198.3,112.5 C181.9,128.9 168.3,122.5 157.7,114.1 C157.9,116.9 156.7,120.9 '\n",
      " '152.7,124.9 L141.0,136.5 C139.8,137.7 141.6,141.9 141.8,141.8 Z\"\\n'\n",
      " '                fill=\"currentColor\" class=\"octo-body\"></path>\\n'\n",
      " '        </svg>\\n'\n",
      " '    </a>\\n'\n",
      " '    <svg xmlns=\"http://www.w3.org/2000/svg\" '\n",
      " 'xmlns:xlink=\"http://www.w3.org/1999/xlink\" '\n",
      " 'style=\"position:absolute;width:0;height:0\">\\n'\n",
      " '        <defs>\\n'\n",
      " '            <symbol viewBox=\"0 0 20 20\" id=\"unlocked\">\\n'\n",
      " '                <path d=\"M15.8 8H14V5.6C14 2.703 12.665 1 10 1 7.334 1 6 '\n",
      " '2.703 6 5.6V6h2v-.801C8 3.754 8.797 3 10 3c1.203 0 2 .754 2 2.199V8H4c-.553 '\n",
      " '0-1 .646-1 1.199V17c0 .549.428 1.139.951 1.307l1.197.387C5.672 18.861 6.55 '\n",
      " '19 7.1 19h5.8c.549 0 1.428-.139 '\n",
      " '1.951-.307l1.196-.387c.524-.167.953-.757.953-1.306V9.199C17 8.646 16.352 8 '\n",
      " '15.8 8z\"></path>\\n'\n",
      " '            </symbol>\\n'\n",
      " '\\n'\n",
      " '            <symbol viewBox=\"0 0 20 20\" id=\"locked\">\\n'\n",
      " '                <path d=\"M15.8 8H14V5.6C14 2.703 12.665 1 10 1 7.334 1 6 '\n",
      " '2.703 6 5.6V8H4c-.553 0-1 .646-1 1.199V17c0 .549.428 1.139.951 '\n",
      " '1.307l1.197.387C5.672 18.861 6.55 19 7.1 19h5.8c.549 0 1.428-.139 '\n",
      " '1.951-.307l1.196-.387c.524-.167.953-.757.953-1.306V9.199C17 8.646 16.352 8 '\n",
      " '15.8 8zM12 8H8V5.199C8 3.754 8.797 3 10 3c1.203 0 2 .754 2 2.199V8z\"\\n'\n",
      " '                />\\n'\n",
      " '            </symbol>\\n'\n",
      " '\\n'\n",
      " '            <symbol viewBox=\"0 0 20 20\" id=\"close\">\\n'\n",
      " '                <path d=\"M14.348 14.849c-.469.469-1.229.469-1.697 0L10 '\n",
      " '11.819l-2.651 3.029c-.469.469-1.229.469-1.697 0-.469-.469-.469-1.229 '\n",
      " '0-1.697l2.758-3.15-2.759-3.152c-.469-.469-.469-1.228 0-1.697.469-.469 '\n",
      " '1.228-.469 1.697 0L10 8.183l2.651-3.031c.469-.469 1.228-.469 1.697 0 '\n",
      " '.469.469.469 1.229 0 1.697l-2.758 3.152 2.758 3.15c.469.469.469 1.229 0 '\n",
      " '1.698z\"\\n'\n",
      " '                />\\n'\n",
      " '            </symbol>\\n'\n",
      " '\\n'\n",
      " '            <symbol viewBox=\"0 0 20 20\" id=\"large-arrow\">\\n'\n",
      " '                <path d=\"M13.25 10L6.109 2.58c-.268-.27-.268-.707 '\n",
      " '0-.979.268-.27.701-.27.969 0l7.83 7.908c.268.271.268.709 0 .979l-7.83 '\n",
      " '7.908c-.268.271-.701.27-.969 0-.268-.269-.268-.707 0-.979L13.25 10z\"\\n'\n",
      " '                />\\n'\n",
      " '            </symbol>\\n'\n",
      " '\\n'\n",
      " '            <symbol viewBox=\"0 0 20 20\" id=\"large-arrow-down\">\\n'\n",
      " '                <path d=\"M17.418 6.109c.272-.268.709-.268.979 0s.271.701 0 '\n",
      " '.969l-7.908 7.83c-.27.268-.707.268-.979 0l-7.908-7.83c-.27-.268-.27-.701 '\n",
      " '0-.969.271-.268.709-.268.979 0L10 13.25l7.418-7.141z\"\\n'\n",
      " '                />\\n'\n",
      " '            </symbol>\\n'\n",
      " '\\n'\n",
      " '\\n'\n",
      " '            <symbol viewBox=\"0 0 24 24\" id=\"jump-to\">\\n'\n",
      " '                <path d=\"M19 7v4H5.83l3.58-3.59L8 6l-6 6 6 6 1.41-1.41L5.83 '\n",
      " '13H21V7z\" />\\n'\n",
      " '            </symbol>\\n'\n",
      " '\\n'\n",
      " '            <symbol viewBox=\"0 0 24 24\" id=\"expand\">\\n'\n",
      " '                <path d=\"M10 18h4v-2h-4v2zM3 6v2h18V6H3zm3 7h12v-2H6v2z\" />\\n'\n",
      " '            </symbol>\\n'\n",
      " '\\n'\n",
      " '        </defs>\\n'\n",
      " '    </svg>\\n'\n",
      " '\\n'\n",
      " '\\n'\n",
      " '    <div id=\"swagger-ui\">\\n'\n",
      " '        <div data-reactroot=\"\" class=\"swagger-ui\">\\n'\n",
      " '            <div>\\n'\n",
      " '                <div class=\"information-container wrapper\">\\n'\n",
      " '                    <section class=\"block col-12\">\\n'\n",
      " '                        <div class=\"info\">\\n'\n",
      " '                            <hgroup class=\"main\">\\n'\n",
      " '                                <h2 class=\"title\">httpbin.org\\n'\n",
      " '                                    <small>\\n'\n",
      " '                                        <pre class=\"version\">0.9.2</pre>\\n'\n",
      " '                                    </small>\\n'\n",
      " '                                </h2>\\n'\n",
      " '                                <pre class=\"base-url\">[ Base URL: '\n",
      " 'httpbin.org/ ]</pre>\\n'\n",
      " '                            </hgroup>\\n'\n",
      " '                            <div class=\"description\">\\n'\n",
      " '                                <div class=\"markdown\">\\n'\n",
      " '                                    <p>A simple HTTP Request &amp; Response '\n",
      " 'Service.\\n'\n",
      " '                                        <br>\\n'\n",
      " '                                        <br>\\n'\n",
      " '                                        <b>Run locally: </b>\\n'\n",
      " '                                        <code>$ docker run -p 80:80 '\n",
      " 'kennethreitz/httpbin</code>\\n'\n",
      " '                                    </p>\\n'\n",
      " '                                </div>\\n'\n",
      " '                            </div>\\n'\n",
      " '                            <div>\\n'\n",
      " '                                <div>\\n'\n",
      " '                                    <a href=\"https://kennethreitz.org\" '\n",
      " 'target=\"_blank\">the developer - Website</a>\\n'\n",
      " '                                </div>\\n'\n",
      " '                                <a href=\"mailto:me@kennethreitz.org\">Send '\n",
      " 'email to the developer</a>\\n'\n",
      " '                            </div>\\n'\n",
      " '                        </div>\\n'\n",
      " '                        <!-- ADDS THE LOADER SPINNER -->\\n'\n",
      " '                        <div class=\"loading-container\">\\n'\n",
      " '                            <div class=\"loading\"></div>\\n'\n",
      " '                        </div>\\n'\n",
      " '\\n'\n",
      " '                    </section>\\n'\n",
      " '                </div>\\n'\n",
      " '            </div>\\n'\n",
      " '        </div>\\n'\n",
      " '    </div>\\n'\n",
      " '\\n'\n",
      " '\\n'\n",
      " \"    <div class='swagger-ui'>\\n\"\n",
      " '        <div class=\"wrapper\">\\n'\n",
      " '            <section class=\"clear\">\\n'\n",
      " '                <span style=\"float: right;\">\\n'\n",
      " '                    [Powered by\\n'\n",
      " '                    <a target=\"_blank\" '\n",
      " 'href=\"https://github.com/rochacbruno/flasgger\">Flasgger</a>]\\n'\n",
      " '                    <br>\\n'\n",
      " '                </span>\\n'\n",
      " '            </section>\\n'\n",
      " '        </div>\\n'\n",
      " '    </div>\\n'\n",
      " '\\n'\n",
      " '\\n'\n",
      " '\\n'\n",
      " '    <script src=\"/flasgger_static/swagger-ui-bundle.js\"> </script>\\n'\n",
      " '    <script src=\"/flasgger_static/swagger-ui-standalone-preset.js\"> '\n",
      " '</script>\\n'\n",
      " \"    <script src='/flasgger_static/lib/jquery.min.js' \"\n",
      " \"type='text/javascript'></script>\\n\"\n",
      " '    <script>\\n'\n",
      " '\\n'\n",
      " '        window.onload = function () {\\n'\n",
      " '            \\n'\n",
      " '\\n'\n",
      " '            fetch(\"/spec.json\")\\n'\n",
      " '                .then(function (response) {\\n'\n",
      " '                    response.json()\\n'\n",
      " '                        .then(function (json) {\\n'\n",
      " '                            var current_protocol = '\n",
      " 'window.location.protocol.slice(0, -1);\\n'\n",
      " '                            if (json.schemes[0] != current_protocol) {\\n'\n",
      " '                                // Switches scheme to the current in use\\n'\n",
      " '                                var other_protocol = json.schemes[0];\\n'\n",
      " '                                json.schemes[0] = current_protocol;\\n'\n",
      " '                                json.schemes[1] = other_protocol;\\n'\n",
      " '\\n'\n",
      " '                            }\\n'\n",
      " '                            json.host = window.location.host;  // sets the '\n",
      " 'current host\\n'\n",
      " '\\n'\n",
      " '                            const ui = SwaggerUIBundle({\\n'\n",
      " '                                spec: json,\\n'\n",
      " '                                validatorUrl: null,\\n'\n",
      " \"                                dom_id: '#swagger-ui',\\n\"\n",
      " '                                deepLinking: true,\\n'\n",
      " '                                jsonEditor: true,\\n'\n",
      " '                                docExpansion: \"none\",\\n'\n",
      " '                                apisSorter: \"alpha\",\\n'\n",
      " '                                //operationsSorter: \"alpha\",\\n'\n",
      " '                                presets: [\\n'\n",
      " '                                    SwaggerUIBundle.presets.apis,\\n'\n",
      " '                                    // yay ES6 modules ↘\\n'\n",
      " '                                    Array.isArray(SwaggerUIStandalonePreset) '\n",
      " '? SwaggerUIStandalonePreset : SwaggerUIStandalonePreset.default\\n'\n",
      " '                                ],\\n'\n",
      " '                                plugins: [\\n'\n",
      " '                                    SwaggerUIBundle.plugins.DownloadUrl\\n'\n",
      " '                                ],\\n'\n",
      " '            \\n'\n",
      " '            // layout: \"StandaloneLayout\"  // uncomment to enable the green '\n",
      " 'top header\\n'\n",
      " '        })\\n'\n",
      " '\\n'\n",
      " '        window.ui = ui\\n'\n",
      " '\\n'\n",
      " '        // uncomment to rename the top brand if layout is enabled\\n'\n",
      " '        // $(\".topbar-wrapper .link '\n",
      " 'span\").replaceWith(\"<span>httpbin</span>\");\\n'\n",
      " '        })\\n'\n",
      " '    })\\n'\n",
      " '}\\n'\n",
      " \"    </script>  <div class='swagger-ui'>\\n\"\n",
      " '    <div class=\"wrapper\">\\n'\n",
      " '        <section class=\"block col-12 block-desktop col-12-desktop\">\\n'\n",
      " '            <div>\\n'\n",
      " '\\n'\n",
      " '                <h2>Other Utilities</h2>\\n'\n",
      " '\\n'\n",
      " '                <ul>\\n'\n",
      " '                    <li>\\n'\n",
      " '                        <a href=\"/forms/post\">HTML form</a> that posts to '\n",
      " '/post /forms/post</li>\\n'\n",
      " '                </ul>\\n'\n",
      " '\\n'\n",
      " '                <br />\\n'\n",
      " '                <br />\\n'\n",
      " '            </div>\\n'\n",
      " '        </section>\\n'\n",
      " '    </div>\\n'\n",
      " '</div>\\n'\n",
      " '</body>\\n'\n",
      " '\\n'\n",
      " '</html>')\n"
     ]
    }
   ],
   "source": [
    "data = resp.read()\n",
    "\n",
    "pprint(data.decode('UTF-8'))"
   ]
  },
  {
   "cell_type": "code",
   "execution_count": 10,
   "id": "f6d0f1ff",
   "metadata": {},
   "outputs": [
    {
     "data": {
      "text/plain": [
       "(200, 'OK')"
      ]
     },
     "execution_count": 10,
     "metadata": {},
     "output_type": "execute_result"
    }
   ],
   "source": [
    "resp.status, resp.reason"
   ]
  },
  {
   "cell_type": "code",
   "execution_count": 11,
   "id": "751225bb",
   "metadata": {},
   "outputs": [
    {
     "name": "stdout",
     "output_type": "stream",
     "text": [
      "''\n"
     ]
    }
   ],
   "source": [
    "resp2_data = resp.read()\n",
    "pprint(resp2_data.decode('UTF-8'))"
   ]
  },
  {
   "cell_type": "code",
   "execution_count": 12,
   "id": "7fa6b0fc",
   "metadata": {},
   "outputs": [],
   "source": [
    "req = urllib.request.Request(bin_url, method='OPTIONS')\n",
    "resp = urllib.request.urlopen(req)"
   ]
  },
  {
   "cell_type": "code",
   "execution_count": 13,
   "id": "a2cbfd6f",
   "metadata": {},
   "outputs": [
    {
     "name": "stdout",
     "output_type": "stream",
     "text": [
      "Date: Wed, 30 Mar 2022 19:50:08 GMT\n",
      "Content-Type: text/html; charset=utf-8\n",
      "Content-Length: 0\n",
      "Connection: close\n",
      "Server: gunicorn/19.9.0\n",
      "Allow: OPTIONS, GET, HEAD\n",
      "Access-Control-Allow-Origin: *\n",
      "Access-Control-Allow-Credentials: true\n",
      "Access-Control-Allow-Methods: GET, POST, PUT, DELETE, PATCH, OPTIONS\n",
      "Access-Control-Max-Age: 3600\n",
      "\n",
      "\n"
     ]
    }
   ],
   "source": [
    "print(resp.info())"
   ]
  },
  {
   "cell_type": "code",
   "execution_count": 14,
   "id": "bdb1d3b8",
   "metadata": {},
   "outputs": [
    {
     "name": "stdout",
     "output_type": "stream",
     "text": [
      "Date: Wed, 30 Mar 2022 19:52:28 GMT\n",
      "Content-Type: application/json\n",
      "Content-Length: 501\n",
      "Connection: close\n",
      "Server: gunicorn/19.9.0\n",
      "Access-Control-Allow-Origin: *\n",
      "Access-Control-Allow-Credentials: true\n",
      "\n",
      "\n"
     ]
    }
   ],
   "source": [
    "post_data = urllib.parse.urlencode({\"name\": \"Alice\", \"college\": \"Harvard\"}).encode('ascii')\n",
    "\n",
    "req = urllib.request.Request('https://httpbin.org/post', \n",
    "                             method='POST',\n",
    "                             data=post_data,\n",
    "                             headers={'User-Agent':'Mozilla/5.0 (Windows NT 6.1; Win64; x64)'})\n",
    "\n",
    "resp = urllib.request.urlopen(req)\n",
    "\n",
    "print(resp.info())"
   ]
  },
  {
   "cell_type": "code",
   "execution_count": 15,
   "id": "8c6e8423",
   "metadata": {},
   "outputs": [
    {
     "name": "stdout",
     "output_type": "stream",
     "text": [
      "('{\\n'\n",
      " '  \"args\": {}, \\n'\n",
      " '  \"data\": \"\", \\n'\n",
      " '  \"files\": {}, \\n'\n",
      " '  \"form\": {\\n'\n",
      " '    \"college\": \"Harvard\", \\n'\n",
      " '    \"name\": \"Alice\"\\n'\n",
      " '  }, \\n'\n",
      " '  \"headers\": {\\n'\n",
      " '    \"Accept-Encoding\": \"identity\", \\n'\n",
      " '    \"Content-Length\": \"26\", \\n'\n",
      " '    \"Content-Type\": \"application/x-www-form-urlencoded\", \\n'\n",
      " '    \"Host\": \"httpbin.org\", \\n'\n",
      " '    \"User-Agent\": \"Mozilla/5.0 (Windows NT 6.1; Win64; x64)\", \\n'\n",
      " '    \"X-Amzn-Trace-Id\": \"Root=1-6244b4fc-446fe1ef14efc9ec32e064ee\"\\n'\n",
      " '  }, \\n'\n",
      " '  \"json\": null, \\n'\n",
      " '  \"origin\": \"191.185.159.149\", \\n'\n",
      " '  \"url\": \"https://httpbin.org/post\"\\n'\n",
      " '}\\n')\n"
     ]
    }
   ],
   "source": [
    "data = resp.read().decode('UTF-8')\n",
    "\n",
    "pprint(data)"
   ]
  },
  {
   "cell_type": "code",
   "execution_count": 19,
   "id": "9d43e68c",
   "metadata": {},
   "outputs": [
    {
     "ename": "HTTPError",
     "evalue": "HTTP Error 403: Forbidden",
     "output_type": "error",
     "traceback": [
      "\u001b[1;31m---------------------------------------------------------------------------\u001b[0m",
      "\u001b[1;31mHTTPError\u001b[0m                                 Traceback (most recent call last)",
      "Input \u001b[1;32mIn [19]\u001b[0m, in \u001b[0;36m<module>\u001b[1;34m\u001b[0m\n\u001b[1;32m----> 1\u001b[0m \u001b[38;5;28;01mwith\u001b[39;00m \u001b[43murllib\u001b[49m\u001b[38;5;241;43m.\u001b[39;49m\u001b[43mrequest\u001b[49m\u001b[38;5;241;43m.\u001b[39;49m\u001b[43murlopen\u001b[49m\u001b[43m(\u001b[49m\u001b[38;5;124;43m'\u001b[39;49m\u001b[38;5;124;43mhttps://www.google.com/search?q=pluralsight\u001b[39;49m\u001b[38;5;124;43m'\u001b[39;49m\u001b[43m)\u001b[49m \u001b[38;5;28;01mas\u001b[39;00m resp:\n\u001b[0;32m      2\u001b[0m     pprint(resp\u001b[38;5;241m.\u001b[39mdata()\u001b[38;5;241m.\u001b[39mdecode(\u001b[38;5;124m'\u001b[39m\u001b[38;5;124mISO-8859-1\u001b[39m\u001b[38;5;124m'\u001b[39m))\n",
      "File \u001b[1;32m~\\AppData\\Local\\Programs\\Python\\Python310\\lib\\urllib\\request.py:216\u001b[0m, in \u001b[0;36murlopen\u001b[1;34m(url, data, timeout, cafile, capath, cadefault, context)\u001b[0m\n\u001b[0;32m    214\u001b[0m \u001b[38;5;28;01melse\u001b[39;00m:\n\u001b[0;32m    215\u001b[0m     opener \u001b[38;5;241m=\u001b[39m _opener\n\u001b[1;32m--> 216\u001b[0m \u001b[38;5;28;01mreturn\u001b[39;00m \u001b[43mopener\u001b[49m\u001b[38;5;241;43m.\u001b[39;49m\u001b[43mopen\u001b[49m\u001b[43m(\u001b[49m\u001b[43murl\u001b[49m\u001b[43m,\u001b[49m\u001b[43m \u001b[49m\u001b[43mdata\u001b[49m\u001b[43m,\u001b[49m\u001b[43m \u001b[49m\u001b[43mtimeout\u001b[49m\u001b[43m)\u001b[49m\n",
      "File \u001b[1;32m~\\AppData\\Local\\Programs\\Python\\Python310\\lib\\urllib\\request.py:525\u001b[0m, in \u001b[0;36mOpenerDirector.open\u001b[1;34m(self, fullurl, data, timeout)\u001b[0m\n\u001b[0;32m    523\u001b[0m \u001b[38;5;28;01mfor\u001b[39;00m processor \u001b[38;5;129;01min\u001b[39;00m \u001b[38;5;28mself\u001b[39m\u001b[38;5;241m.\u001b[39mprocess_response\u001b[38;5;241m.\u001b[39mget(protocol, []):\n\u001b[0;32m    524\u001b[0m     meth \u001b[38;5;241m=\u001b[39m \u001b[38;5;28mgetattr\u001b[39m(processor, meth_name)\n\u001b[1;32m--> 525\u001b[0m     response \u001b[38;5;241m=\u001b[39m \u001b[43mmeth\u001b[49m\u001b[43m(\u001b[49m\u001b[43mreq\u001b[49m\u001b[43m,\u001b[49m\u001b[43m \u001b[49m\u001b[43mresponse\u001b[49m\u001b[43m)\u001b[49m\n\u001b[0;32m    527\u001b[0m \u001b[38;5;28;01mreturn\u001b[39;00m response\n",
      "File \u001b[1;32m~\\AppData\\Local\\Programs\\Python\\Python310\\lib\\urllib\\request.py:634\u001b[0m, in \u001b[0;36mHTTPErrorProcessor.http_response\u001b[1;34m(self, request, response)\u001b[0m\n\u001b[0;32m    631\u001b[0m \u001b[38;5;66;03m# According to RFC 2616, \"2xx\" code indicates that the client's\u001b[39;00m\n\u001b[0;32m    632\u001b[0m \u001b[38;5;66;03m# request was successfully received, understood, and accepted.\u001b[39;00m\n\u001b[0;32m    633\u001b[0m \u001b[38;5;28;01mif\u001b[39;00m \u001b[38;5;129;01mnot\u001b[39;00m (\u001b[38;5;241m200\u001b[39m \u001b[38;5;241m<\u001b[39m\u001b[38;5;241m=\u001b[39m code \u001b[38;5;241m<\u001b[39m \u001b[38;5;241m300\u001b[39m):\n\u001b[1;32m--> 634\u001b[0m     response \u001b[38;5;241m=\u001b[39m \u001b[38;5;28;43mself\u001b[39;49m\u001b[38;5;241;43m.\u001b[39;49m\u001b[43mparent\u001b[49m\u001b[38;5;241;43m.\u001b[39;49m\u001b[43merror\u001b[49m\u001b[43m(\u001b[49m\n\u001b[0;32m    635\u001b[0m \u001b[43m        \u001b[49m\u001b[38;5;124;43m'\u001b[39;49m\u001b[38;5;124;43mhttp\u001b[39;49m\u001b[38;5;124;43m'\u001b[39;49m\u001b[43m,\u001b[49m\u001b[43m \u001b[49m\u001b[43mrequest\u001b[49m\u001b[43m,\u001b[49m\u001b[43m \u001b[49m\u001b[43mresponse\u001b[49m\u001b[43m,\u001b[49m\u001b[43m \u001b[49m\u001b[43mcode\u001b[49m\u001b[43m,\u001b[49m\u001b[43m \u001b[49m\u001b[43mmsg\u001b[49m\u001b[43m,\u001b[49m\u001b[43m \u001b[49m\u001b[43mhdrs\u001b[49m\u001b[43m)\u001b[49m\n\u001b[0;32m    637\u001b[0m \u001b[38;5;28;01mreturn\u001b[39;00m response\n",
      "File \u001b[1;32m~\\AppData\\Local\\Programs\\Python\\Python310\\lib\\urllib\\request.py:563\u001b[0m, in \u001b[0;36mOpenerDirector.error\u001b[1;34m(self, proto, *args)\u001b[0m\n\u001b[0;32m    561\u001b[0m \u001b[38;5;28;01mif\u001b[39;00m http_err:\n\u001b[0;32m    562\u001b[0m     args \u001b[38;5;241m=\u001b[39m (\u001b[38;5;28mdict\u001b[39m, \u001b[38;5;124m'\u001b[39m\u001b[38;5;124mdefault\u001b[39m\u001b[38;5;124m'\u001b[39m, \u001b[38;5;124m'\u001b[39m\u001b[38;5;124mhttp_error_default\u001b[39m\u001b[38;5;124m'\u001b[39m) \u001b[38;5;241m+\u001b[39m orig_args\n\u001b[1;32m--> 563\u001b[0m     \u001b[38;5;28;01mreturn\u001b[39;00m \u001b[38;5;28;43mself\u001b[39;49m\u001b[38;5;241;43m.\u001b[39;49m\u001b[43m_call_chain\u001b[49m\u001b[43m(\u001b[49m\u001b[38;5;241;43m*\u001b[39;49m\u001b[43margs\u001b[49m\u001b[43m)\u001b[49m\n",
      "File \u001b[1;32m~\\AppData\\Local\\Programs\\Python\\Python310\\lib\\urllib\\request.py:496\u001b[0m, in \u001b[0;36mOpenerDirector._call_chain\u001b[1;34m(self, chain, kind, meth_name, *args)\u001b[0m\n\u001b[0;32m    494\u001b[0m \u001b[38;5;28;01mfor\u001b[39;00m handler \u001b[38;5;129;01min\u001b[39;00m handlers:\n\u001b[0;32m    495\u001b[0m     func \u001b[38;5;241m=\u001b[39m \u001b[38;5;28mgetattr\u001b[39m(handler, meth_name)\n\u001b[1;32m--> 496\u001b[0m     result \u001b[38;5;241m=\u001b[39m \u001b[43mfunc\u001b[49m\u001b[43m(\u001b[49m\u001b[38;5;241;43m*\u001b[39;49m\u001b[43margs\u001b[49m\u001b[43m)\u001b[49m\n\u001b[0;32m    497\u001b[0m     \u001b[38;5;28;01mif\u001b[39;00m result \u001b[38;5;129;01mis\u001b[39;00m \u001b[38;5;129;01mnot\u001b[39;00m \u001b[38;5;28;01mNone\u001b[39;00m:\n\u001b[0;32m    498\u001b[0m         \u001b[38;5;28;01mreturn\u001b[39;00m result\n",
      "File \u001b[1;32m~\\AppData\\Local\\Programs\\Python\\Python310\\lib\\urllib\\request.py:643\u001b[0m, in \u001b[0;36mHTTPDefaultErrorHandler.http_error_default\u001b[1;34m(self, req, fp, code, msg, hdrs)\u001b[0m\n\u001b[0;32m    642\u001b[0m \u001b[38;5;28;01mdef\u001b[39;00m \u001b[38;5;21mhttp_error_default\u001b[39m(\u001b[38;5;28mself\u001b[39m, req, fp, code, msg, hdrs):\n\u001b[1;32m--> 643\u001b[0m     \u001b[38;5;28;01mraise\u001b[39;00m HTTPError(req\u001b[38;5;241m.\u001b[39mfull_url, code, msg, hdrs, fp)\n",
      "\u001b[1;31mHTTPError\u001b[0m: HTTP Error 403: Forbidden"
     ]
    }
   ],
   "source": [
    "# BEST PRACTICE:\n",
    "with urllib.request.urlopen('https://www.google.com/search?q=pluralsight') as resp:\n",
    "    pprint(resp.data().decode('ISO-8859-1'))"
   ]
  },
  {
   "cell_type": "code",
   "execution_count": 20,
   "id": "cf37497c",
   "metadata": {},
   "outputs": [
    {
     "name": "stdout",
     "output_type": "stream",
     "text": [
      "Forbidden 403\n"
     ]
    }
   ],
   "source": [
    "from urllib.error import URLError, HTTPError\n",
    "try:\n",
    "    with urllib.request.urlopen('https://www.google.com/search?q=pluralsight') as resp:\n",
    "        pprint(resp.data().decode('ISO-8859-1'))\n",
    "except HTTPError as e:\n",
    "    print(e.reason, e.code)"
   ]
  },
  {
   "cell_type": "code",
   "execution_count": 24,
   "id": "a6439c44",
   "metadata": {},
   "outputs": [
    {
     "ename": "URLError",
     "evalue": "<urlopen error [Errno 11001] getaddrinfo failed>",
     "output_type": "error",
     "traceback": [
      "\u001b[1;31m---------------------------------------------------------------------------\u001b[0m",
      "\u001b[1;31mgaierror\u001b[0m                                  Traceback (most recent call last)",
      "File \u001b[1;32m~\\AppData\\Local\\Programs\\Python\\Python310\\lib\\urllib\\request.py:1348\u001b[0m, in \u001b[0;36mAbstractHTTPHandler.do_open\u001b[1;34m(self, http_class, req, **http_conn_args)\u001b[0m\n\u001b[0;32m   1347\u001b[0m \u001b[38;5;28;01mtry\u001b[39;00m:\n\u001b[1;32m-> 1348\u001b[0m     \u001b[43mh\u001b[49m\u001b[38;5;241;43m.\u001b[39;49m\u001b[43mrequest\u001b[49m\u001b[43m(\u001b[49m\u001b[43mreq\u001b[49m\u001b[38;5;241;43m.\u001b[39;49m\u001b[43mget_method\u001b[49m\u001b[43m(\u001b[49m\u001b[43m)\u001b[49m\u001b[43m,\u001b[49m\u001b[43m \u001b[49m\u001b[43mreq\u001b[49m\u001b[38;5;241;43m.\u001b[39;49m\u001b[43mselector\u001b[49m\u001b[43m,\u001b[49m\u001b[43m \u001b[49m\u001b[43mreq\u001b[49m\u001b[38;5;241;43m.\u001b[39;49m\u001b[43mdata\u001b[49m\u001b[43m,\u001b[49m\u001b[43m \u001b[49m\u001b[43mheaders\u001b[49m\u001b[43m,\u001b[49m\n\u001b[0;32m   1349\u001b[0m \u001b[43m              \u001b[49m\u001b[43mencode_chunked\u001b[49m\u001b[38;5;241;43m=\u001b[39;49m\u001b[43mreq\u001b[49m\u001b[38;5;241;43m.\u001b[39;49m\u001b[43mhas_header\u001b[49m\u001b[43m(\u001b[49m\u001b[38;5;124;43m'\u001b[39;49m\u001b[38;5;124;43mTransfer-encoding\u001b[39;49m\u001b[38;5;124;43m'\u001b[39;49m\u001b[43m)\u001b[49m\u001b[43m)\u001b[49m\n\u001b[0;32m   1350\u001b[0m \u001b[38;5;28;01mexcept\u001b[39;00m \u001b[38;5;167;01mOSError\u001b[39;00m \u001b[38;5;28;01mas\u001b[39;00m err: \u001b[38;5;66;03m# timeout error\u001b[39;00m\n",
      "File \u001b[1;32m~\\AppData\\Local\\Programs\\Python\\Python310\\lib\\http\\client.py:1282\u001b[0m, in \u001b[0;36mHTTPConnection.request\u001b[1;34m(self, method, url, body, headers, encode_chunked)\u001b[0m\n\u001b[0;32m   1281\u001b[0m \u001b[38;5;124;03m\"\"\"Send a complete request to the server.\"\"\"\u001b[39;00m\n\u001b[1;32m-> 1282\u001b[0m \u001b[38;5;28;43mself\u001b[39;49m\u001b[38;5;241;43m.\u001b[39;49m\u001b[43m_send_request\u001b[49m\u001b[43m(\u001b[49m\u001b[43mmethod\u001b[49m\u001b[43m,\u001b[49m\u001b[43m \u001b[49m\u001b[43murl\u001b[49m\u001b[43m,\u001b[49m\u001b[43m \u001b[49m\u001b[43mbody\u001b[49m\u001b[43m,\u001b[49m\u001b[43m \u001b[49m\u001b[43mheaders\u001b[49m\u001b[43m,\u001b[49m\u001b[43m \u001b[49m\u001b[43mencode_chunked\u001b[49m\u001b[43m)\u001b[49m\n",
      "File \u001b[1;32m~\\AppData\\Local\\Programs\\Python\\Python310\\lib\\http\\client.py:1328\u001b[0m, in \u001b[0;36mHTTPConnection._send_request\u001b[1;34m(self, method, url, body, headers, encode_chunked)\u001b[0m\n\u001b[0;32m   1327\u001b[0m     body \u001b[38;5;241m=\u001b[39m _encode(body, \u001b[38;5;124m'\u001b[39m\u001b[38;5;124mbody\u001b[39m\u001b[38;5;124m'\u001b[39m)\n\u001b[1;32m-> 1328\u001b[0m \u001b[38;5;28;43mself\u001b[39;49m\u001b[38;5;241;43m.\u001b[39;49m\u001b[43mendheaders\u001b[49m\u001b[43m(\u001b[49m\u001b[43mbody\u001b[49m\u001b[43m,\u001b[49m\u001b[43m \u001b[49m\u001b[43mencode_chunked\u001b[49m\u001b[38;5;241;43m=\u001b[39;49m\u001b[43mencode_chunked\u001b[49m\u001b[43m)\u001b[49m\n",
      "File \u001b[1;32m~\\AppData\\Local\\Programs\\Python\\Python310\\lib\\http\\client.py:1277\u001b[0m, in \u001b[0;36mHTTPConnection.endheaders\u001b[1;34m(self, message_body, encode_chunked)\u001b[0m\n\u001b[0;32m   1276\u001b[0m     \u001b[38;5;28;01mraise\u001b[39;00m CannotSendHeader()\n\u001b[1;32m-> 1277\u001b[0m \u001b[38;5;28;43mself\u001b[39;49m\u001b[38;5;241;43m.\u001b[39;49m\u001b[43m_send_output\u001b[49m\u001b[43m(\u001b[49m\u001b[43mmessage_body\u001b[49m\u001b[43m,\u001b[49m\u001b[43m \u001b[49m\u001b[43mencode_chunked\u001b[49m\u001b[38;5;241;43m=\u001b[39;49m\u001b[43mencode_chunked\u001b[49m\u001b[43m)\u001b[49m\n",
      "File \u001b[1;32m~\\AppData\\Local\\Programs\\Python\\Python310\\lib\\http\\client.py:1037\u001b[0m, in \u001b[0;36mHTTPConnection._send_output\u001b[1;34m(self, message_body, encode_chunked)\u001b[0m\n\u001b[0;32m   1036\u001b[0m \u001b[38;5;28;01mdel\u001b[39;00m \u001b[38;5;28mself\u001b[39m\u001b[38;5;241m.\u001b[39m_buffer[:]\n\u001b[1;32m-> 1037\u001b[0m \u001b[38;5;28;43mself\u001b[39;49m\u001b[38;5;241;43m.\u001b[39;49m\u001b[43msend\u001b[49m\u001b[43m(\u001b[49m\u001b[43mmsg\u001b[49m\u001b[43m)\u001b[49m\n\u001b[0;32m   1039\u001b[0m \u001b[38;5;28;01mif\u001b[39;00m message_body \u001b[38;5;129;01mis\u001b[39;00m \u001b[38;5;129;01mnot\u001b[39;00m \u001b[38;5;28;01mNone\u001b[39;00m:\n\u001b[0;32m   1040\u001b[0m \n\u001b[0;32m   1041\u001b[0m     \u001b[38;5;66;03m# create a consistent interface to message_body\u001b[39;00m\n",
      "File \u001b[1;32m~\\AppData\\Local\\Programs\\Python\\Python310\\lib\\http\\client.py:975\u001b[0m, in \u001b[0;36mHTTPConnection.send\u001b[1;34m(self, data)\u001b[0m\n\u001b[0;32m    974\u001b[0m \u001b[38;5;28;01mif\u001b[39;00m \u001b[38;5;28mself\u001b[39m\u001b[38;5;241m.\u001b[39mauto_open:\n\u001b[1;32m--> 975\u001b[0m     \u001b[38;5;28;43mself\u001b[39;49m\u001b[38;5;241;43m.\u001b[39;49m\u001b[43mconnect\u001b[49m\u001b[43m(\u001b[49m\u001b[43m)\u001b[49m\n\u001b[0;32m    976\u001b[0m \u001b[38;5;28;01melse\u001b[39;00m:\n",
      "File \u001b[1;32m~\\AppData\\Local\\Programs\\Python\\Python310\\lib\\http\\client.py:1447\u001b[0m, in \u001b[0;36mHTTPSConnection.connect\u001b[1;34m(self)\u001b[0m\n\u001b[0;32m   1445\u001b[0m \u001b[38;5;124m\"\u001b[39m\u001b[38;5;124mConnect to a host on a given (SSL) port.\u001b[39m\u001b[38;5;124m\"\u001b[39m\n\u001b[1;32m-> 1447\u001b[0m \u001b[38;5;28;43msuper\u001b[39;49m\u001b[43m(\u001b[49m\u001b[43m)\u001b[49m\u001b[38;5;241;43m.\u001b[39;49m\u001b[43mconnect\u001b[49m\u001b[43m(\u001b[49m\u001b[43m)\u001b[49m\n\u001b[0;32m   1449\u001b[0m \u001b[38;5;28;01mif\u001b[39;00m \u001b[38;5;28mself\u001b[39m\u001b[38;5;241m.\u001b[39m_tunnel_host:\n",
      "File \u001b[1;32m~\\AppData\\Local\\Programs\\Python\\Python310\\lib\\http\\client.py:941\u001b[0m, in \u001b[0;36mHTTPConnection.connect\u001b[1;34m(self)\u001b[0m\n\u001b[0;32m    940\u001b[0m sys\u001b[38;5;241m.\u001b[39maudit(\u001b[38;5;124m\"\u001b[39m\u001b[38;5;124mhttp.client.connect\u001b[39m\u001b[38;5;124m\"\u001b[39m, \u001b[38;5;28mself\u001b[39m, \u001b[38;5;28mself\u001b[39m\u001b[38;5;241m.\u001b[39mhost, \u001b[38;5;28mself\u001b[39m\u001b[38;5;241m.\u001b[39mport)\n\u001b[1;32m--> 941\u001b[0m \u001b[38;5;28mself\u001b[39m\u001b[38;5;241m.\u001b[39msock \u001b[38;5;241m=\u001b[39m \u001b[38;5;28;43mself\u001b[39;49m\u001b[38;5;241;43m.\u001b[39;49m\u001b[43m_create_connection\u001b[49m\u001b[43m(\u001b[49m\n\u001b[0;32m    942\u001b[0m \u001b[43m    \u001b[49m\u001b[43m(\u001b[49m\u001b[38;5;28;43mself\u001b[39;49m\u001b[38;5;241;43m.\u001b[39;49m\u001b[43mhost\u001b[49m\u001b[43m,\u001b[49m\u001b[38;5;28;43mself\u001b[39;49m\u001b[38;5;241;43m.\u001b[39;49m\u001b[43mport\u001b[49m\u001b[43m)\u001b[49m\u001b[43m,\u001b[49m\u001b[43m \u001b[49m\u001b[38;5;28;43mself\u001b[39;49m\u001b[38;5;241;43m.\u001b[39;49m\u001b[43mtimeout\u001b[49m\u001b[43m,\u001b[49m\u001b[43m \u001b[49m\u001b[38;5;28;43mself\u001b[39;49m\u001b[38;5;241;43m.\u001b[39;49m\u001b[43msource_address\u001b[49m\u001b[43m)\u001b[49m\n\u001b[0;32m    943\u001b[0m \u001b[38;5;66;03m# Might fail in OSs that don't implement TCP_NODELAY\u001b[39;00m\n",
      "File \u001b[1;32m~\\AppData\\Local\\Programs\\Python\\Python310\\lib\\socket.py:824\u001b[0m, in \u001b[0;36mcreate_connection\u001b[1;34m(address, timeout, source_address)\u001b[0m\n\u001b[0;32m    823\u001b[0m err \u001b[38;5;241m=\u001b[39m \u001b[38;5;28;01mNone\u001b[39;00m\n\u001b[1;32m--> 824\u001b[0m \u001b[38;5;28;01mfor\u001b[39;00m res \u001b[38;5;129;01min\u001b[39;00m \u001b[43mgetaddrinfo\u001b[49m\u001b[43m(\u001b[49m\u001b[43mhost\u001b[49m\u001b[43m,\u001b[49m\u001b[43m \u001b[49m\u001b[43mport\u001b[49m\u001b[43m,\u001b[49m\u001b[43m \u001b[49m\u001b[38;5;241;43m0\u001b[39;49m\u001b[43m,\u001b[49m\u001b[43m \u001b[49m\u001b[43mSOCK_STREAM\u001b[49m\u001b[43m)\u001b[49m:\n\u001b[0;32m    825\u001b[0m     af, socktype, proto, canonname, sa \u001b[38;5;241m=\u001b[39m res\n",
      "File \u001b[1;32m~\\AppData\\Local\\Programs\\Python\\Python310\\lib\\socket.py:955\u001b[0m, in \u001b[0;36mgetaddrinfo\u001b[1;34m(host, port, family, type, proto, flags)\u001b[0m\n\u001b[0;32m    954\u001b[0m addrlist \u001b[38;5;241m=\u001b[39m []\n\u001b[1;32m--> 955\u001b[0m \u001b[38;5;28;01mfor\u001b[39;00m res \u001b[38;5;129;01min\u001b[39;00m \u001b[43m_socket\u001b[49m\u001b[38;5;241;43m.\u001b[39;49m\u001b[43mgetaddrinfo\u001b[49m\u001b[43m(\u001b[49m\u001b[43mhost\u001b[49m\u001b[43m,\u001b[49m\u001b[43m \u001b[49m\u001b[43mport\u001b[49m\u001b[43m,\u001b[49m\u001b[43m \u001b[49m\u001b[43mfamily\u001b[49m\u001b[43m,\u001b[49m\u001b[43m \u001b[49m\u001b[38;5;28;43mtype\u001b[39;49m\u001b[43m,\u001b[49m\u001b[43m \u001b[49m\u001b[43mproto\u001b[49m\u001b[43m,\u001b[49m\u001b[43m \u001b[49m\u001b[43mflags\u001b[49m\u001b[43m)\u001b[49m:\n\u001b[0;32m    956\u001b[0m     af, socktype, proto, canonname, sa \u001b[38;5;241m=\u001b[39m res\n",
      "\u001b[1;31mgaierror\u001b[0m: [Errno 11001] getaddrinfo failed",
      "\nDuring handling of the above exception, another exception occurred:\n",
      "\u001b[1;31mURLError\u001b[0m                                  Traceback (most recent call last)",
      "Input \u001b[1;32mIn [24]\u001b[0m, in \u001b[0;36m<module>\u001b[1;34m\u001b[0m\n\u001b[0;32m      1\u001b[0m \u001b[38;5;28;01mtry\u001b[39;00m:\n\u001b[1;32m----> 2\u001b[0m     \u001b[38;5;28;01mwith\u001b[39;00m \u001b[43murllib\u001b[49m\u001b[38;5;241;43m.\u001b[39;49m\u001b[43mrequest\u001b[49m\u001b[38;5;241;43m.\u001b[39;49m\u001b[43murlopen\u001b[49m\u001b[43m(\u001b[49m\u001b[38;5;124;43m'\u001b[39;49m\u001b[38;5;124;43mhttps://www.loonyX-corn.com\u001b[39;49m\u001b[38;5;124;43m'\u001b[39;49m\u001b[43m)\u001b[49m \u001b[38;5;28;01mas\u001b[39;00m resp:\n\u001b[0;32m      3\u001b[0m         pprint(resp\u001b[38;5;241m.\u001b[39mdata()\u001b[38;5;241m.\u001b[39mdecode(\u001b[38;5;124m'\u001b[39m\u001b[38;5;124mUTF-8\u001b[39m\u001b[38;5;124m'\u001b[39m))\n\u001b[0;32m      4\u001b[0m \u001b[38;5;28;01mexcept\u001b[39;00m HTTPError \u001b[38;5;28;01mas\u001b[39;00m e:\n",
      "File \u001b[1;32m~\\AppData\\Local\\Programs\\Python\\Python310\\lib\\urllib\\request.py:216\u001b[0m, in \u001b[0;36murlopen\u001b[1;34m(url, data, timeout, cafile, capath, cadefault, context)\u001b[0m\n\u001b[0;32m    214\u001b[0m \u001b[38;5;28;01melse\u001b[39;00m:\n\u001b[0;32m    215\u001b[0m     opener \u001b[38;5;241m=\u001b[39m _opener\n\u001b[1;32m--> 216\u001b[0m \u001b[38;5;28;01mreturn\u001b[39;00m \u001b[43mopener\u001b[49m\u001b[38;5;241;43m.\u001b[39;49m\u001b[43mopen\u001b[49m\u001b[43m(\u001b[49m\u001b[43murl\u001b[49m\u001b[43m,\u001b[49m\u001b[43m \u001b[49m\u001b[43mdata\u001b[49m\u001b[43m,\u001b[49m\u001b[43m \u001b[49m\u001b[43mtimeout\u001b[49m\u001b[43m)\u001b[49m\n",
      "File \u001b[1;32m~\\AppData\\Local\\Programs\\Python\\Python310\\lib\\urllib\\request.py:519\u001b[0m, in \u001b[0;36mOpenerDirector.open\u001b[1;34m(self, fullurl, data, timeout)\u001b[0m\n\u001b[0;32m    516\u001b[0m     req \u001b[38;5;241m=\u001b[39m meth(req)\n\u001b[0;32m    518\u001b[0m sys\u001b[38;5;241m.\u001b[39maudit(\u001b[38;5;124m'\u001b[39m\u001b[38;5;124murllib.Request\u001b[39m\u001b[38;5;124m'\u001b[39m, req\u001b[38;5;241m.\u001b[39mfull_url, req\u001b[38;5;241m.\u001b[39mdata, req\u001b[38;5;241m.\u001b[39mheaders, req\u001b[38;5;241m.\u001b[39mget_method())\n\u001b[1;32m--> 519\u001b[0m response \u001b[38;5;241m=\u001b[39m \u001b[38;5;28;43mself\u001b[39;49m\u001b[38;5;241;43m.\u001b[39;49m\u001b[43m_open\u001b[49m\u001b[43m(\u001b[49m\u001b[43mreq\u001b[49m\u001b[43m,\u001b[49m\u001b[43m \u001b[49m\u001b[43mdata\u001b[49m\u001b[43m)\u001b[49m\n\u001b[0;32m    521\u001b[0m \u001b[38;5;66;03m# post-process response\u001b[39;00m\n\u001b[0;32m    522\u001b[0m meth_name \u001b[38;5;241m=\u001b[39m protocol\u001b[38;5;241m+\u001b[39m\u001b[38;5;124m\"\u001b[39m\u001b[38;5;124m_response\u001b[39m\u001b[38;5;124m\"\u001b[39m\n",
      "File \u001b[1;32m~\\AppData\\Local\\Programs\\Python\\Python310\\lib\\urllib\\request.py:536\u001b[0m, in \u001b[0;36mOpenerDirector._open\u001b[1;34m(self, req, data)\u001b[0m\n\u001b[0;32m    533\u001b[0m     \u001b[38;5;28;01mreturn\u001b[39;00m result\n\u001b[0;32m    535\u001b[0m protocol \u001b[38;5;241m=\u001b[39m req\u001b[38;5;241m.\u001b[39mtype\n\u001b[1;32m--> 536\u001b[0m result \u001b[38;5;241m=\u001b[39m \u001b[38;5;28;43mself\u001b[39;49m\u001b[38;5;241;43m.\u001b[39;49m\u001b[43m_call_chain\u001b[49m\u001b[43m(\u001b[49m\u001b[38;5;28;43mself\u001b[39;49m\u001b[38;5;241;43m.\u001b[39;49m\u001b[43mhandle_open\u001b[49m\u001b[43m,\u001b[49m\u001b[43m \u001b[49m\u001b[43mprotocol\u001b[49m\u001b[43m,\u001b[49m\u001b[43m \u001b[49m\u001b[43mprotocol\u001b[49m\u001b[43m \u001b[49m\u001b[38;5;241;43m+\u001b[39;49m\n\u001b[0;32m    537\u001b[0m \u001b[43m                          \u001b[49m\u001b[38;5;124;43m'\u001b[39;49m\u001b[38;5;124;43m_open\u001b[39;49m\u001b[38;5;124;43m'\u001b[39;49m\u001b[43m,\u001b[49m\u001b[43m \u001b[49m\u001b[43mreq\u001b[49m\u001b[43m)\u001b[49m\n\u001b[0;32m    538\u001b[0m \u001b[38;5;28;01mif\u001b[39;00m result:\n\u001b[0;32m    539\u001b[0m     \u001b[38;5;28;01mreturn\u001b[39;00m result\n",
      "File \u001b[1;32m~\\AppData\\Local\\Programs\\Python\\Python310\\lib\\urllib\\request.py:496\u001b[0m, in \u001b[0;36mOpenerDirector._call_chain\u001b[1;34m(self, chain, kind, meth_name, *args)\u001b[0m\n\u001b[0;32m    494\u001b[0m \u001b[38;5;28;01mfor\u001b[39;00m handler \u001b[38;5;129;01min\u001b[39;00m handlers:\n\u001b[0;32m    495\u001b[0m     func \u001b[38;5;241m=\u001b[39m \u001b[38;5;28mgetattr\u001b[39m(handler, meth_name)\n\u001b[1;32m--> 496\u001b[0m     result \u001b[38;5;241m=\u001b[39m \u001b[43mfunc\u001b[49m\u001b[43m(\u001b[49m\u001b[38;5;241;43m*\u001b[39;49m\u001b[43margs\u001b[49m\u001b[43m)\u001b[49m\n\u001b[0;32m    497\u001b[0m     \u001b[38;5;28;01mif\u001b[39;00m result \u001b[38;5;129;01mis\u001b[39;00m \u001b[38;5;129;01mnot\u001b[39;00m \u001b[38;5;28;01mNone\u001b[39;00m:\n\u001b[0;32m    498\u001b[0m         \u001b[38;5;28;01mreturn\u001b[39;00m result\n",
      "File \u001b[1;32m~\\AppData\\Local\\Programs\\Python\\Python310\\lib\\urllib\\request.py:1391\u001b[0m, in \u001b[0;36mHTTPSHandler.https_open\u001b[1;34m(self, req)\u001b[0m\n\u001b[0;32m   1390\u001b[0m \u001b[38;5;28;01mdef\u001b[39;00m \u001b[38;5;21mhttps_open\u001b[39m(\u001b[38;5;28mself\u001b[39m, req):\n\u001b[1;32m-> 1391\u001b[0m     \u001b[38;5;28;01mreturn\u001b[39;00m \u001b[38;5;28;43mself\u001b[39;49m\u001b[38;5;241;43m.\u001b[39;49m\u001b[43mdo_open\u001b[49m\u001b[43m(\u001b[49m\u001b[43mhttp\u001b[49m\u001b[38;5;241;43m.\u001b[39;49m\u001b[43mclient\u001b[49m\u001b[38;5;241;43m.\u001b[39;49m\u001b[43mHTTPSConnection\u001b[49m\u001b[43m,\u001b[49m\u001b[43m \u001b[49m\u001b[43mreq\u001b[49m\u001b[43m,\u001b[49m\n\u001b[0;32m   1392\u001b[0m \u001b[43m        \u001b[49m\u001b[43mcontext\u001b[49m\u001b[38;5;241;43m=\u001b[39;49m\u001b[38;5;28;43mself\u001b[39;49m\u001b[38;5;241;43m.\u001b[39;49m\u001b[43m_context\u001b[49m\u001b[43m,\u001b[49m\u001b[43m \u001b[49m\u001b[43mcheck_hostname\u001b[49m\u001b[38;5;241;43m=\u001b[39;49m\u001b[38;5;28;43mself\u001b[39;49m\u001b[38;5;241;43m.\u001b[39;49m\u001b[43m_check_hostname\u001b[49m\u001b[43m)\u001b[49m\n",
      "File \u001b[1;32m~\\AppData\\Local\\Programs\\Python\\Python310\\lib\\urllib\\request.py:1351\u001b[0m, in \u001b[0;36mAbstractHTTPHandler.do_open\u001b[1;34m(self, http_class, req, **http_conn_args)\u001b[0m\n\u001b[0;32m   1348\u001b[0m         h\u001b[38;5;241m.\u001b[39mrequest(req\u001b[38;5;241m.\u001b[39mget_method(), req\u001b[38;5;241m.\u001b[39mselector, req\u001b[38;5;241m.\u001b[39mdata, headers,\n\u001b[0;32m   1349\u001b[0m                   encode_chunked\u001b[38;5;241m=\u001b[39mreq\u001b[38;5;241m.\u001b[39mhas_header(\u001b[38;5;124m'\u001b[39m\u001b[38;5;124mTransfer-encoding\u001b[39m\u001b[38;5;124m'\u001b[39m))\n\u001b[0;32m   1350\u001b[0m     \u001b[38;5;28;01mexcept\u001b[39;00m \u001b[38;5;167;01mOSError\u001b[39;00m \u001b[38;5;28;01mas\u001b[39;00m err: \u001b[38;5;66;03m# timeout error\u001b[39;00m\n\u001b[1;32m-> 1351\u001b[0m         \u001b[38;5;28;01mraise\u001b[39;00m URLError(err)\n\u001b[0;32m   1352\u001b[0m     r \u001b[38;5;241m=\u001b[39m h\u001b[38;5;241m.\u001b[39mgetresponse()\n\u001b[0;32m   1353\u001b[0m \u001b[38;5;28;01mexcept\u001b[39;00m:\n",
      "\u001b[1;31mURLError\u001b[0m: <urlopen error [Errno 11001] getaddrinfo failed>"
     ]
    }
   ],
   "source": [
    "try:\n",
    "    with urllib.request.urlopen('https://www.loonyX-corn.com') as resp:\n",
    "        pprint(resp.data().decode('UTF-8'))\n",
    "except HTTPError as e:\n",
    "    print(e.reason)"
   ]
  },
  {
   "cell_type": "code",
   "execution_count": 25,
   "id": "1aabc01c",
   "metadata": {},
   "outputs": [],
   "source": [
    "parsed_data = urllib.parse.urlparse(\\\n",
    "    'http://www.loonycorn.in:80/languages/Python.html')"
   ]
  },
  {
   "cell_type": "code",
   "execution_count": 26,
   "id": "5be0f99e",
   "metadata": {},
   "outputs": [
    {
     "data": {
      "text/plain": [
       "ParseResult(scheme='http', netloc='www.loonycorn.in:80', path='/languages/Python.html', params='', query='', fragment='')"
      ]
     },
     "execution_count": 26,
     "metadata": {},
     "output_type": "execute_result"
    }
   ],
   "source": [
    "parsed_data"
   ]
  },
  {
   "cell_type": "code",
   "execution_count": 27,
   "id": "7491cf01",
   "metadata": {},
   "outputs": [
    {
     "data": {
      "text/plain": [
       "'http'"
      ]
     },
     "execution_count": 27,
     "metadata": {},
     "output_type": "execute_result"
    }
   ],
   "source": [
    "parsed_data.scheme"
   ]
  },
  {
   "cell_type": "code",
   "execution_count": 28,
   "id": "f634e52f",
   "metadata": {},
   "outputs": [
    {
     "data": {
      "text/plain": [
       "'www.loonycorn.in:80'"
      ]
     },
     "execution_count": 28,
     "metadata": {},
     "output_type": "execute_result"
    }
   ],
   "source": [
    "parsed_data.netloc"
   ]
  },
  {
   "cell_type": "code",
   "execution_count": 29,
   "id": "e0b43d7c",
   "metadata": {},
   "outputs": [],
   "source": [
    "parsed_data = urllib.parse.urlparse(\\\n",
    "    'http://www.loonycorn.in:80/languages/Python.html?greeting=hello&person=John')"
   ]
  },
  {
   "cell_type": "code",
   "execution_count": 30,
   "id": "6f2f2437",
   "metadata": {},
   "outputs": [
    {
     "data": {
      "text/plain": [
       "ParseResult(scheme='http', netloc='www.loonycorn.in:80', path='/languages/Python.html', params='', query='greeting=hello&person=John', fragment='')"
      ]
     },
     "execution_count": 30,
     "metadata": {},
     "output_type": "execute_result"
    }
   ],
   "source": [
    "parsed_data"
   ]
  },
  {
   "cell_type": "code",
   "execution_count": 31,
   "id": "ec9eb846",
   "metadata": {},
   "outputs": [],
   "source": [
    "parsed_data = urllib.parse.urlparse(\\\n",
    "    'http://www.loonycorn.in:80/languages/Python.html#courses')"
   ]
  },
  {
   "cell_type": "code",
   "execution_count": 32,
   "id": "ecfb77d1",
   "metadata": {},
   "outputs": [
    {
     "data": {
      "text/plain": [
       "ParseResult(scheme='http', netloc='www.loonycorn.in:80', path='/languages/Python.html', params='', query='', fragment='courses')"
      ]
     },
     "execution_count": 32,
     "metadata": {},
     "output_type": "execute_result"
    }
   ],
   "source": [
    "parsed_data"
   ]
  },
  {
   "cell_type": "code",
   "execution_count": null,
   "id": "b136c81e",
   "metadata": {},
   "outputs": [],
   "source": []
  }
 ],
 "metadata": {
  "kernelspec": {
   "display_name": "Python 3 (ipykernel)",
   "language": "python",
   "name": "python3"
  },
  "language_info": {
   "codemirror_mode": {
    "name": "ipython",
    "version": 3
   },
   "file_extension": ".py",
   "mimetype": "text/x-python",
   "name": "python",
   "nbconvert_exporter": "python",
   "pygments_lexer": "ipython3",
   "version": "3.10.2"
  }
 },
 "nbformat": 4,
 "nbformat_minor": 5
}
