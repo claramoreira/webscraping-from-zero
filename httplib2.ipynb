{
 "cells": [
  {
   "cell_type": "code",
   "execution_count": 1,
   "id": "791a4890",
   "metadata": {},
   "outputs": [],
   "source": [
    "import httplib2\n",
    "import webbrowser\n",
    "from pprint import pprint"
   ]
  },
  {
   "cell_type": "code",
   "execution_count": 2,
   "id": "4b43ad57",
   "metadata": {},
   "outputs": [],
   "source": [
    "bin_url = 'https://httpbin.org/'"
   ]
  },
  {
   "cell_type": "code",
   "execution_count": 3,
   "id": "33f9ec28",
   "metadata": {},
   "outputs": [
    {
     "data": {
      "text/plain": [
       "True"
      ]
     },
     "execution_count": 3,
     "metadata": {},
     "output_type": "execute_result"
    }
   ],
   "source": [
    "webbrowser.open(bin_url)"
   ]
  },
  {
   "cell_type": "code",
   "execution_count": 4,
   "id": "9bca837b",
   "metadata": {},
   "outputs": [],
   "source": [
    "http = httplib2.Http()"
   ]
  },
  {
   "cell_type": "code",
   "execution_count": 5,
   "id": "572f8905",
   "metadata": {},
   "outputs": [],
   "source": [
    "resp, data = http.request(bin_url)"
   ]
  },
  {
   "cell_type": "code",
   "execution_count": 6,
   "id": "6766b77a",
   "metadata": {},
   "outputs": [
    {
     "name": "stdout",
     "output_type": "stream",
     "text": [
      "{'access-control-allow-credentials': 'true',\n",
      " 'access-control-allow-origin': '*',\n",
      " 'connection': 'keep-alive',\n",
      " 'content-length': '9593',\n",
      " 'content-location': 'https://httpbin.org/',\n",
      " 'content-type': 'text/html; charset=utf-8',\n",
      " 'date': 'Wed, 30 Mar 2022 19:27:48 GMT',\n",
      " 'server': 'gunicorn/19.9.0',\n",
      " 'status': '200'}\n"
     ]
    }
   ],
   "source": [
    "pprint(resp)"
   ]
  },
  {
   "cell_type": "code",
   "execution_count": 7,
   "id": "e6fbd97d",
   "metadata": {},
   "outputs": [
    {
     "data": {
      "text/plain": [
       "(httplib2.Response, 9)"
      ]
     },
     "execution_count": 7,
     "metadata": {},
     "output_type": "execute_result"
    }
   ],
   "source": [
    "type(resp), len(resp)"
   ]
  },
  {
   "cell_type": "code",
   "execution_count": 8,
   "id": "3b171887",
   "metadata": {},
   "outputs": [
    {
     "data": {
      "text/plain": [
       "(200, 'OK', 11)"
      ]
     },
     "execution_count": 8,
     "metadata": {},
     "output_type": "execute_result"
    }
   ],
   "source": [
    "resp.status, resp.reason, resp.version"
   ]
  },
  {
   "cell_type": "code",
   "execution_count": 9,
   "id": "dd1b0a58",
   "metadata": {},
   "outputs": [],
   "source": [
    "resp.previous"
   ]
  },
  {
   "cell_type": "code",
   "execution_count": 10,
   "id": "26fc7c90",
   "metadata": {},
   "outputs": [
    {
     "name": "stdout",
     "output_type": "stream",
     "text": [
      "(b'<!DOCTYPE html>\\n<html lang=\"en\">\\n\\n<head>\\n    <meta charset=\"UTF-8\">\\n'\n",
      " b'    <title>httpbin.org</title>\\n    <link href=\"https://fonts.googleapis.'\n",
      " b'com/css?family=Open+Sans:400,700|Source+Code+Pro:300,600|Titillium+Web:400,6'\n",
      " b'00,700\"\\n        rel=\"stylesheet\">\\n    <link rel=\"stylesheet\" type=\"text/'\n",
      " b'css\" href=\"/flasgger_static/swagger-ui.css\">\\n    <link rel=\"icon\" type=\"'\n",
      " b'image/png\" href=\"/static/favicon.ico\" sizes=\"64x64 32x32 16x16\" />\\n    <'\n",
      " b'style>\\n        html {\\n            box-sizing: border-box;\\n            ov'\n",
      " b'erflow: -moz-scrollbars-vertical;\\n            overflow-y: scroll;\\n      '\n",
      " b'  }\\n\\n        *,\\n        *:before,\\n        *:after {\\n            box-'\n",
      " b'sizing: inherit;\\n        }\\n\\n        body {\\n            margin: 0;\\n  '\n",
      " b'          background: #fafafa;\\n        }\\n    </style>\\n</head>\\n\\n<body'\n",
      " b'>\\n    <a href=\"https://github.com/requests/httpbin\" class=\"github-corner'\n",
      " b'\" aria-label=\"View source on Github\">\\n        <svg width=\"80\" height=\"80'\n",
      " b'\" viewBox=\"0 0 250 250\" style=\"fill:#151513; color:#fff; position: absolute;'\n",
      " b' top: 0; border: 0; right: 0;\"\\n            aria-hidden=\"true\">\\n         '\n",
      " b'   <path d=\"M0,0 L115,115 L130,115 L142,142 L250,250 L250,0 Z\"></path>\\n '\n",
      " b'           <path d=\"M128.3,109.0 C113.8,99.7 119.0,89.6 119.0,89.6 C122.0,82'\n",
      " b'.7 120.5,78.6 120.5,78.6 C119.2,72.0 123.4,76.3 123.4,76.3 C127.3,80.9 125.5'\n",
      " b',87.3 125.5,87.3 C122.9,97.6 130.6,101.9 134.4,103.2\"\\n                fi'\n",
      " b'll=\"currentColor\" style=\"transform-origin: 130px 106px;\" class=\"octo-arm\"></'\n",
      " b'path>\\n            <path d=\"M115.0,115.0 C114.9,115.1 118.7,116.5 119.8,1'\n",
      " b'15.4 L133.7,101.6 C136.9,99.2 139.9,98.4 142.2,98.6 C133.8,88.0 127.5,74.4 1'\n",
      " b'43.8,58.0 C148.5,53.4 154.0,51.2 159.7,51.0 C160.3,49.4 163.2,43.6 171.4,40.'\n",
      " b'1 C171.4,40.1 176.1,42.5 178.8,56.2 C183.1,58.6 187.2,61.8 190.9,65.4 C194.5'\n",
      " b',69.0 197.7,73.2 200.1,77.6 C213.8,80.2 216.3,84.9 216.3,84.9 C212.7,93.1 20'\n",
      " b'6.9,96.0 205.4,96.6 C205.1,102.4 203.0,107.8 198.3,112.5 C181.9,128.9 168.3,'\n",
      " b'122.5 157.7,114.1 C157.9,116.9 156.7,120.9 152.7,124.9 L141.0,136.5 C139.8,1'\n",
      " b'37.7 141.6,141.9 141.8,141.8 Z\"\\n                fill=\"currentColor\" clas'\n",
      " b's=\"octo-body\"></path>\\n        </svg>\\n    </a>\\n    <svg xmlns=\"http://www'\n",
      " b'.w3.org/2000/svg\" xmlns:xlink=\"http://www.w3.org/1999/xlink\" style=\"position'\n",
      " b':absolute;width:0;height:0\">\\n        <defs>\\n            <symbol viewBox='\n",
      " b'\"0 0 20 20\" id=\"unlocked\">\\n                <path d=\"M15.8 8H14V5.6C14 2.'\n",
      " b'703 12.665 1 10 1 7.334 1 6 2.703 6 5.6V6h2v-.801C8 3.754 8.797 3 10 3c1.203'\n",
      " b' 0 2 .754 2 2.199V8H4c-.553 0-1 .646-1 1.199V17c0 .549.428 1.139.951 1.307l1'\n",
      " b'.197.387C5.672 18.861 6.55 19 7.1 19h5.8c.549 0 1.428-.139 1.951-.307l1.196-'\n",
      " b'.387c.524-.167.953-.757.953-1.306V9.199C17 8.646 16.352 8 15.8 8z\"></pat'\n",
      " b'h>\\n            </symbol>\\n\\n            <symbol viewBox=\"0 0 20 20\" id=\"lo'\n",
      " b'cked\">\\n                <path d=\"M15.8 8H14V5.6C14 2.703 12.665 1 10 1 7.'\n",
      " b'334 1 6 2.703 6 5.6V8H4c-.553 0-1 .646-1 1.199V17c0 .549.428 1.139.951 1.307'\n",
      " b'l1.197.387C5.672 18.861 6.55 19 7.1 19h5.8c.549 0 1.428-.139 1.951-.307l1.19'\n",
      " b'6-.387c.524-.167.953-.757.953-1.306V9.199C17 8.646 16.352 8 15.8 8zM12 8H8V5'\n",
      " b'.199C8 3.754 8.797 3 10 3c1.203 0 2 .754 2 2.199V8z\"\\n                />\\n'\n",
      " b'            </symbol>\\n\\n            <symbol viewBox=\"0 0 20 20\" id=\"close'\n",
      " b'\">\\n                <path d=\"M14.348 14.849c-.469.469-1.229.469-1.697 0L1'\n",
      " b'0 11.819l-2.651 3.029c-.469.469-1.229.469-1.697 0-.469-.469-.469-1.229 0-1.6'\n",
      " b'97l2.758-3.15-2.759-3.152c-.469-.469-.469-1.228 0-1.697.469-.469 1.228-.469 '\n",
      " b'1.697 0L10 8.183l2.651-3.031c.469-.469 1.228-.469 1.697 0 .469.469.469 1.229'\n",
      " b' 0 1.697l-2.758 3.152 2.758 3.15c.469.469.469 1.229 0 1.698z\"\\n          '\n",
      " b'      />\\n            </symbol>\\n\\n            <symbol viewBox=\"0 0 20 20\" '\n",
      " b'id=\"large-arrow\">\\n                <path d=\"M13.25 10L6.109 2.58c-.268-.2'\n",
      " b'7-.268-.707 0-.979.268-.27.701-.27.969 0l7.83 7.908c.268.271.268.709 0 .979l'\n",
      " b'-7.83 7.908c-.268.271-.701.27-.969 0-.268-.269-.268-.707 0-.979L13.25 10'\n",
      " b'z\"\\n                />\\n            </symbol>\\n\\n            <symbol viewBox'\n",
      " b'=\"0 0 20 20\" id=\"large-arrow-down\">\\n                <path d=\"M17.418 6.1'\n",
      " b'09c.272-.268.709-.268.979 0s.271.701 0 .969l-7.908 7.83c-.27.268-.707.268-.9'\n",
      " b'79 0l-7.908-7.83c-.27-.268-.27-.701 0-.969.271-.268.709-.268.979 0L10 13.25l'\n",
      " b'7.418-7.141z\"\\n                />\\n            </symbol>\\n\\n\\n           '\n",
      " b' <symbol viewBox=\"0 0 24 24\" id=\"jump-to\">\\n                <path d=\"M19 '\n",
      " b'7v4H5.83l3.58-3.59L8 6l-6 6 6 6 1.41-1.41L5.83 13H21V7z\" />\\n            '\n",
      " b'</symbol>\\n\\n            <symbol viewBox=\"0 0 24 24\" id=\"expand\">\\n        '\n",
      " b'        <path d=\"M10 18h4v-2h-4v2zM3 6v2h18V6H3zm3 7h12v-2H6v2z\" />\\n    '\n",
      " b'        </symbol>\\n\\n        </defs>\\n    </svg>\\n\\n\\n    <div id=\"swagger'\n",
      " b'-ui\">\\n        <div data-reactroot=\"\" class=\"swagger-ui\">\\n            <di'\n",
      " b'v>\\n                <div class=\"information-container wrapper\">\\n         '\n",
      " b'           <section class=\"block col-12\">\\n                        <div c'\n",
      " b'lass=\"info\">\\n                            <hgroup class=\"main\">\\n         '\n",
      " b'                       <h2 class=\"title\">httpbin.org\\n                   '\n",
      " b'                 <small>\\n                                        <pre cl'\n",
      " b'ass=\"version\">0.9.2</pre>\\n                                    </small>\\n '\n",
      " b'                               </h2>\\n                                <pr'\n",
      " b'e class=\"base-url\">[ Base URL: httpbin.org/ ]</pre>\\n                    '\n",
      " b'        </hgroup>\\n                            <div class=\"description\">\\n'\n",
      " b'                                <div class=\"markdown\">\\n                 '\n",
      " b'                   <p>A simple HTTP Request &amp; Response Service.\\n    '\n",
      " b'                                    <br>\\n                               '\n",
      " b'         <br>\\n                                        <b>Run locally: </'\n",
      " b'b>\\n                                        <code>$ docker run -p 80:80 k'\n",
      " b'ennethreitz/httpbin</code>\\n                                    </p>\\n    '\n",
      " b'                            </div>\\n                            </div>\\n  '\n",
      " b'                          <div>\\n                                <div>\\n  '\n",
      " b'                                  <a href=\"https://kennethreitz.org\" target='\n",
      " b'\"_blank\">the developer - Website</a>\\n                                </d'\n",
      " b'iv>\\n                                <a href=\"mailto:me@kennethreitz.org\"'\n",
      " b'>Send email to the developer</a>\\n                            </div>\\n    '\n",
      " b'                    </div>\\n                        <!-- ADDS THE LOADER '\n",
      " b'SPINNER -->\\n                        <div class=\"loading-container\">\\n    '\n",
      " b'                        <div class=\"loading\"></div>\\n                    '\n",
      " b'    </div>\\n\\n                    </section>\\n                </div>\\n      '\n",
      " b\"      </div>\\n        </div>\\n    </div>\\n\\n\\n    <div class='swagger-ui'\"\n",
      " b'>\\n        <div class=\"wrapper\">\\n            <section class=\"clear\">\\n    '\n",
      " b'            <span style=\"float: right;\">\\n                    [Powered by'\n",
      " b'\\n                    <a target=\"_blank\" href=\"https://github.com/rochacb'\n",
      " b'runo/flasgger\">Flasgger</a>]\\n                    <br>\\n                </'\n",
      " b'span>\\n            </section>\\n        </div>\\n    </div>\\n\\n\\n\\n    <scrip'\n",
      " b't src=\"/flasgger_static/swagger-ui-bundle.js\"> </script>\\n    <script src'\n",
      " b'=\"/flasgger_static/swagger-ui-standalone-preset.js\"> </script>\\n    <scri'\n",
      " b\"pt src='/flasgger_static/lib/jquery.min.js' type='text/javascript'></script>\"\n",
      " b'\\n    <script>\\n\\n        window.onload = function () {\\n            \\n\\n '\n",
      " b'           fetch(\"/spec.json\")\\n                .then(function (response)'\n",
      " b' {\\n                    response.json()\\n                        .then(fun'\n",
      " b'ction (json) {\\n                            var current_protocol = window'\n",
      " b'.location.protocol.slice(0, -1);\\n                            if (json.sc'\n",
      " b'hemes[0] != current_protocol) {\\n                                // Switc'\n",
      " b'hes scheme to the current in use\\n                                var oth'\n",
      " b'er_protocol = json.schemes[0];\\n                                json.sche'\n",
      " b'mes[0] = current_protocol;\\n                                json.schemes['\n",
      " b'1] = other_protocol;\\n\\n                            }\\n                    '\n",
      " b'        json.host = window.location.host;  // sets the current host\\n\\n   '\n",
      " b'                         const ui = SwaggerUIBundle({\\n                  '\n",
      " b'              spec: json,\\n                                validatorUrl: '\n",
      " b\"null,\\n                                dom_id: '#swagger-ui',\\n           \"\n",
      " b'                     deepLinking: true,\\n                                '\n",
      " b'jsonEditor: true,\\n                                docExpansion: \"none\",\\n'\n",
      " b'                                apisSorter: \"alpha\",\\n                   '\n",
      " b'             //operationsSorter: \"alpha\",\\n                              '\n",
      " b'  presets: [\\n                                    SwaggerUIBundle.presets'\n",
      " b'.apis,\\n                                    // yay ES6 modules \\xe2\\x86'\n",
      " b'\\x98\\n                                    Array.isArray(SwaggerUIStandaloneP'\n",
      " b'reset) ? SwaggerUIStandalonePreset : SwaggerUIStandalonePreset.default\\n '\n",
      " b'                               ],\\n                                plugin'\n",
      " b's: [\\n                                    SwaggerUIBundle.plugins.Downloa'\n",
      " b'dUrl\\n                                ],\\n            \\n            // layo'\n",
      " b'ut: \"StandaloneLayout\"  // uncomment to enable the green top header\\n    '\n",
      " b'    })\\n\\n        window.ui = ui\\n\\n        // uncomment to rename the top b'\n",
      " b'rand if layout is enabled\\n        // $(\".topbar-wrapper .link span\").rep'\n",
      " b'laceWith(\"<span>httpbin</span>\");\\n        })\\n    })\\n}\\n    </script>  <di'\n",
      " b'v class=\\'swagger-ui\\'>\\n    <div class=\"wrapper\">\\n        <section class=\"'\n",
      " b'block col-12 block-desktop col-12-desktop\">\\n            <div>\\n\\n         '\n",
      " b'       <h2>Other Utilities</h2>\\n\\n                <ul>\\n                  '\n",
      " b'  <li>\\n                        <a href=\"/forms/post\">HTML form</a> that '\n",
      " b'posts to /post /forms/post</li>\\n                </ul>\\n\\n                <'\n",
      " b'br />\\n                <br />\\n            </div>\\n        </section>\\n    <'\n",
      " b'/div>\\n</div>\\n</body>\\n\\n</html>')\n"
     ]
    }
   ],
   "source": [
    "pprint(data)"
   ]
  },
  {
   "cell_type": "code",
   "execution_count": 11,
   "id": "c423803f",
   "metadata": {},
   "outputs": [
    {
     "data": {
      "text/plain": [
       "str"
      ]
     },
     "execution_count": 11,
     "metadata": {},
     "output_type": "execute_result"
    }
   ],
   "source": [
    "html = data.decode(\"UTF-8\")\n",
    "\n",
    "type(html)"
   ]
  },
  {
   "cell_type": "code",
   "execution_count": 12,
   "id": "a4b777b2",
   "metadata": {},
   "outputs": [
    {
     "name": "stdout",
     "output_type": "stream",
     "text": [
      "('<!DOCTYPE html>\\n'\n",
      " '<html lang=\"en\">\\n'\n",
      " '\\n'\n",
      " '<head>\\n'\n",
      " '    <meta charset=\"UTF-8\">\\n'\n",
      " '    <title>httpbin.org</title>\\n'\n",
      " '    <link '\n",
      " 'href=\"https://fonts.googleapis.com/css?family=Open+Sans:400,700|Source+Code+Pro:300,600|Titillium+Web:400,600,700\"\\n'\n",
      " '        rel=\"stylesheet\">\\n'\n",
      " '    <link rel=\"stylesheet\" type=\"text/css\" '\n",
      " 'href=\"/flasgger_static/swagger-ui.css\">\\n'\n",
      " '    <link rel=\"icon\" type=\"image/png\" href=\"/static/favicon.ico\" '\n",
      " 'sizes=\"64x64 32x32 16x16\" />\\n'\n",
      " '    <style>\\n'\n",
      " '        html {\\n'\n",
      " '            box-sizing: border-box;\\n'\n",
      " '            overflow: -moz-scrollbars-vertical;\\n'\n",
      " '            overflow-y: scroll;\\n'\n",
      " '        }\\n'\n",
      " '\\n'\n",
      " '        *,\\n'\n",
      " '        *:before,\\n'\n",
      " '        *:after {\\n'\n",
      " '            box-sizing: inherit;\\n'\n",
      " '        }\\n'\n",
      " '\\n'\n",
      " '        body {\\n'\n",
      " '            margin: 0;\\n'\n",
      " '            background: #fafafa;\\n'\n",
      " '        }\\n'\n",
      " '    </style>\\n'\n",
      " '</head>\\n'\n",
      " '\\n'\n",
      " '<body>\\n'\n",
      " '    <a href=\"https://github.com/requests/httpbin\" class=\"github-corner\" '\n",
      " 'aria-label=\"View source on Github\">\\n'\n",
      " '        <svg width=\"80\" height=\"80\" viewBox=\"0 0 250 250\" '\n",
      " 'style=\"fill:#151513; color:#fff; position: absolute; top: 0; border: 0; '\n",
      " 'right: 0;\"\\n'\n",
      " '            aria-hidden=\"true\">\\n'\n",
      " '            <path d=\"M0,0 L115,115 L130,115 L142,142 L250,250 L250,0 '\n",
      " 'Z\"></path>\\n'\n",
      " '            <path d=\"M128.3,109.0 C113.8,99.7 119.0,89.6 119.0,89.6 '\n",
      " 'C122.0,82.7 120.5,78.6 120.5,78.6 C119.2,72.0 123.4,76.3 123.4,76.3 '\n",
      " 'C127.3,80.9 125.5,87.3 125.5,87.3 C122.9,97.6 130.6,101.9 134.4,103.2\"\\n'\n",
      " '                fill=\"currentColor\" style=\"transform-origin: 130px 106px;\" '\n",
      " 'class=\"octo-arm\"></path>\\n'\n",
      " '            <path d=\"M115.0,115.0 C114.9,115.1 118.7,116.5 119.8,115.4 '\n",
      " 'L133.7,101.6 C136.9,99.2 139.9,98.4 142.2,98.6 C133.8,88.0 127.5,74.4 '\n",
      " '143.8,58.0 C148.5,53.4 154.0,51.2 159.7,51.0 C160.3,49.4 163.2,43.6 '\n",
      " '171.4,40.1 C171.4,40.1 176.1,42.5 178.8,56.2 C183.1,58.6 187.2,61.8 '\n",
      " '190.9,65.4 C194.5,69.0 197.7,73.2 200.1,77.6 C213.8,80.2 216.3,84.9 '\n",
      " '216.3,84.9 C212.7,93.1 206.9,96.0 205.4,96.6 C205.1,102.4 203.0,107.8 '\n",
      " '198.3,112.5 C181.9,128.9 168.3,122.5 157.7,114.1 C157.9,116.9 156.7,120.9 '\n",
      " '152.7,124.9 L141.0,136.5 C139.8,137.7 141.6,141.9 141.8,141.8 Z\"\\n'\n",
      " '                fill=\"currentColor\" class=\"octo-body\"></path>\\n'\n",
      " '        </svg>\\n'\n",
      " '    </a>\\n'\n",
      " '    <svg xmlns=\"http://www.w3.org/2000/svg\" '\n",
      " 'xmlns:xlink=\"http://www.w3.org/1999/xlink\" '\n",
      " 'style=\"position:absolute;width:0;height:0\">\\n'\n",
      " '        <defs>\\n'\n",
      " '            <symbol viewBox=\"0 0 20 20\" id=\"unlocked\">\\n'\n",
      " '                <path d=\"M15.8 8H14V5.6C14 2.703 12.665 1 10 1 7.334 1 6 '\n",
      " '2.703 6 5.6V6h2v-.801C8 3.754 8.797 3 10 3c1.203 0 2 .754 2 2.199V8H4c-.553 '\n",
      " '0-1 .646-1 1.199V17c0 .549.428 1.139.951 1.307l1.197.387C5.672 18.861 6.55 '\n",
      " '19 7.1 19h5.8c.549 0 1.428-.139 '\n",
      " '1.951-.307l1.196-.387c.524-.167.953-.757.953-1.306V9.199C17 8.646 16.352 8 '\n",
      " '15.8 8z\"></path>\\n'\n",
      " '            </symbol>\\n'\n",
      " '\\n'\n",
      " '            <symbol viewBox=\"0 0 20 20\" id=\"locked\">\\n'\n",
      " '                <path d=\"M15.8 8H14V5.6C14 2.703 12.665 1 10 1 7.334 1 6 '\n",
      " '2.703 6 5.6V8H4c-.553 0-1 .646-1 1.199V17c0 .549.428 1.139.951 '\n",
      " '1.307l1.197.387C5.672 18.861 6.55 19 7.1 19h5.8c.549 0 1.428-.139 '\n",
      " '1.951-.307l1.196-.387c.524-.167.953-.757.953-1.306V9.199C17 8.646 16.352 8 '\n",
      " '15.8 8zM12 8H8V5.199C8 3.754 8.797 3 10 3c1.203 0 2 .754 2 2.199V8z\"\\n'\n",
      " '                />\\n'\n",
      " '            </symbol>\\n'\n",
      " '\\n'\n",
      " '            <symbol viewBox=\"0 0 20 20\" id=\"close\">\\n'\n",
      " '                <path d=\"M14.348 14.849c-.469.469-1.229.469-1.697 0L10 '\n",
      " '11.819l-2.651 3.029c-.469.469-1.229.469-1.697 0-.469-.469-.469-1.229 '\n",
      " '0-1.697l2.758-3.15-2.759-3.152c-.469-.469-.469-1.228 0-1.697.469-.469 '\n",
      " '1.228-.469 1.697 0L10 8.183l2.651-3.031c.469-.469 1.228-.469 1.697 0 '\n",
      " '.469.469.469 1.229 0 1.697l-2.758 3.152 2.758 3.15c.469.469.469 1.229 0 '\n",
      " '1.698z\"\\n'\n",
      " '                />\\n'\n",
      " '            </symbol>\\n'\n",
      " '\\n'\n",
      " '            <symbol viewBox=\"0 0 20 20\" id=\"large-arrow\">\\n'\n",
      " '                <path d=\"M13.25 10L6.109 2.58c-.268-.27-.268-.707 '\n",
      " '0-.979.268-.27.701-.27.969 0l7.83 7.908c.268.271.268.709 0 .979l-7.83 '\n",
      " '7.908c-.268.271-.701.27-.969 0-.268-.269-.268-.707 0-.979L13.25 10z\"\\n'\n",
      " '                />\\n'\n",
      " '            </symbol>\\n'\n",
      " '\\n'\n",
      " '            <symbol viewBox=\"0 0 20 20\" id=\"large-arrow-down\">\\n'\n",
      " '                <path d=\"M17.418 6.109c.272-.268.709-.268.979 0s.271.701 0 '\n",
      " '.969l-7.908 7.83c-.27.268-.707.268-.979 0l-7.908-7.83c-.27-.268-.27-.701 '\n",
      " '0-.969.271-.268.709-.268.979 0L10 13.25l7.418-7.141z\"\\n'\n",
      " '                />\\n'\n",
      " '            </symbol>\\n'\n",
      " '\\n'\n",
      " '\\n'\n",
      " '            <symbol viewBox=\"0 0 24 24\" id=\"jump-to\">\\n'\n",
      " '                <path d=\"M19 7v4H5.83l3.58-3.59L8 6l-6 6 6 6 1.41-1.41L5.83 '\n",
      " '13H21V7z\" />\\n'\n",
      " '            </symbol>\\n'\n",
      " '\\n'\n",
      " '            <symbol viewBox=\"0 0 24 24\" id=\"expand\">\\n'\n",
      " '                <path d=\"M10 18h4v-2h-4v2zM3 6v2h18V6H3zm3 7h12v-2H6v2z\" />\\n'\n",
      " '            </symbol>\\n'\n",
      " '\\n'\n",
      " '        </defs>\\n'\n",
      " '    </svg>\\n'\n",
      " '\\n'\n",
      " '\\n'\n",
      " '    <div id=\"swagger-ui\">\\n'\n",
      " '        <div data-reactroot=\"\" class=\"swagger-ui\">\\n'\n",
      " '            <div>\\n'\n",
      " '                <div class=\"information-container wrapper\">\\n'\n",
      " '                    <section class=\"block col-12\">\\n'\n",
      " '                        <div class=\"info\">\\n'\n",
      " '                            <hgroup class=\"main\">\\n'\n",
      " '                                <h2 class=\"title\">httpbin.org\\n'\n",
      " '                                    <small>\\n'\n",
      " '                                        <pre class=\"version\">0.9.2</pre>\\n'\n",
      " '                                    </small>\\n'\n",
      " '                                </h2>\\n'\n",
      " '                                <pre class=\"base-url\">[ Base URL: '\n",
      " 'httpbin.org/ ]</pre>\\n'\n",
      " '                            </hgroup>\\n'\n",
      " '                            <div class=\"description\">\\n'\n",
      " '                                <div class=\"markdown\">\\n'\n",
      " '                                    <p>A simple HTTP Request &amp; Response '\n",
      " 'Service.\\n'\n",
      " '                                        <br>\\n'\n",
      " '                                        <br>\\n'\n",
      " '                                        <b>Run locally: </b>\\n'\n",
      " '                                        <code>$ docker run -p 80:80 '\n",
      " 'kennethreitz/httpbin</code>\\n'\n",
      " '                                    </p>\\n'\n",
      " '                                </div>\\n'\n",
      " '                            </div>\\n'\n",
      " '                            <div>\\n'\n",
      " '                                <div>\\n'\n",
      " '                                    <a href=\"https://kennethreitz.org\" '\n",
      " 'target=\"_blank\">the developer - Website</a>\\n'\n",
      " '                                </div>\\n'\n",
      " '                                <a href=\"mailto:me@kennethreitz.org\">Send '\n",
      " 'email to the developer</a>\\n'\n",
      " '                            </div>\\n'\n",
      " '                        </div>\\n'\n",
      " '                        <!-- ADDS THE LOADER SPINNER -->\\n'\n",
      " '                        <div class=\"loading-container\">\\n'\n",
      " '                            <div class=\"loading\"></div>\\n'\n",
      " '                        </div>\\n'\n",
      " '\\n'\n",
      " '                    </section>\\n'\n",
      " '                </div>\\n'\n",
      " '            </div>\\n'\n",
      " '        </div>\\n'\n",
      " '    </div>\\n'\n",
      " '\\n'\n",
      " '\\n'\n",
      " \"    <div class='swagger-ui'>\\n\"\n",
      " '        <div class=\"wrapper\">\\n'\n",
      " '            <section class=\"clear\">\\n'\n",
      " '                <span style=\"float: right;\">\\n'\n",
      " '                    [Powered by\\n'\n",
      " '                    <a target=\"_blank\" '\n",
      " 'href=\"https://github.com/rochacbruno/flasgger\">Flasgger</a>]\\n'\n",
      " '                    <br>\\n'\n",
      " '                </span>\\n'\n",
      " '            </section>\\n'\n",
      " '        </div>\\n'\n",
      " '    </div>\\n'\n",
      " '\\n'\n",
      " '\\n'\n",
      " '\\n'\n",
      " '    <script src=\"/flasgger_static/swagger-ui-bundle.js\"> </script>\\n'\n",
      " '    <script src=\"/flasgger_static/swagger-ui-standalone-preset.js\"> '\n",
      " '</script>\\n'\n",
      " \"    <script src='/flasgger_static/lib/jquery.min.js' \"\n",
      " \"type='text/javascript'></script>\\n\"\n",
      " '    <script>\\n'\n",
      " '\\n'\n",
      " '        window.onload = function () {\\n'\n",
      " '            \\n'\n",
      " '\\n'\n",
      " '            fetch(\"/spec.json\")\\n'\n",
      " '                .then(function (response) {\\n'\n",
      " '                    response.json()\\n'\n",
      " '                        .then(function (json) {\\n'\n",
      " '                            var current_protocol = '\n",
      " 'window.location.protocol.slice(0, -1);\\n'\n",
      " '                            if (json.schemes[0] != current_protocol) {\\n'\n",
      " '                                // Switches scheme to the current in use\\n'\n",
      " '                                var other_protocol = json.schemes[0];\\n'\n",
      " '                                json.schemes[0] = current_protocol;\\n'\n",
      " '                                json.schemes[1] = other_protocol;\\n'\n",
      " '\\n'\n",
      " '                            }\\n'\n",
      " '                            json.host = window.location.host;  // sets the '\n",
      " 'current host\\n'\n",
      " '\\n'\n",
      " '                            const ui = SwaggerUIBundle({\\n'\n",
      " '                                spec: json,\\n'\n",
      " '                                validatorUrl: null,\\n'\n",
      " \"                                dom_id: '#swagger-ui',\\n\"\n",
      " '                                deepLinking: true,\\n'\n",
      " '                                jsonEditor: true,\\n'\n",
      " '                                docExpansion: \"none\",\\n'\n",
      " '                                apisSorter: \"alpha\",\\n'\n",
      " '                                //operationsSorter: \"alpha\",\\n'\n",
      " '                                presets: [\\n'\n",
      " '                                    SwaggerUIBundle.presets.apis,\\n'\n",
      " '                                    // yay ES6 modules ↘\\n'\n",
      " '                                    Array.isArray(SwaggerUIStandalonePreset) '\n",
      " '? SwaggerUIStandalonePreset : SwaggerUIStandalonePreset.default\\n'\n",
      " '                                ],\\n'\n",
      " '                                plugins: [\\n'\n",
      " '                                    SwaggerUIBundle.plugins.DownloadUrl\\n'\n",
      " '                                ],\\n'\n",
      " '            \\n'\n",
      " '            // layout: \"StandaloneLayout\"  // uncomment to enable the green '\n",
      " 'top header\\n'\n",
      " '        })\\n'\n",
      " '\\n'\n",
      " '        window.ui = ui\\n'\n",
      " '\\n'\n",
      " '        // uncomment to rename the top brand if layout is enabled\\n'\n",
      " '        // $(\".topbar-wrapper .link '\n",
      " 'span\").replaceWith(\"<span>httpbin</span>\");\\n'\n",
      " '        })\\n'\n",
      " '    })\\n'\n",
      " '}\\n'\n",
      " \"    </script>  <div class='swagger-ui'>\\n\"\n",
      " '    <div class=\"wrapper\">\\n'\n",
      " '        <section class=\"block col-12 block-desktop col-12-desktop\">\\n'\n",
      " '            <div>\\n'\n",
      " '\\n'\n",
      " '                <h2>Other Utilities</h2>\\n'\n",
      " '\\n'\n",
      " '                <ul>\\n'\n",
      " '                    <li>\\n'\n",
      " '                        <a href=\"/forms/post\">HTML form</a> that posts to '\n",
      " '/post /forms/post</li>\\n'\n",
      " '                </ul>\\n'\n",
      " '\\n'\n",
      " '                <br />\\n'\n",
      " '                <br />\\n'\n",
      " '            </div>\\n'\n",
      " '        </section>\\n'\n",
      " '    </div>\\n'\n",
      " '</div>\\n'\n",
      " '</body>\\n'\n",
      " '\\n'\n",
      " '</html>')\n"
     ]
    }
   ],
   "source": [
    "pprint(html)"
   ]
  },
  {
   "cell_type": "code",
   "execution_count": 13,
   "id": "6023bce1",
   "metadata": {},
   "outputs": [],
   "source": [
    "resp, data = http.request('http://google.com')"
   ]
  },
  {
   "cell_type": "code",
   "execution_count": 14,
   "id": "7834a25a",
   "metadata": {},
   "outputs": [
    {
     "name": "stdout",
     "output_type": "stream",
     "text": [
      "{'-content-encoding': 'gzip',\n",
      " 'cache-control': 'private, max-age=0',\n",
      " 'content-length': '14661',\n",
      " 'content-location': 'http://www.google.com/',\n",
      " 'content-type': 'text/html; charset=ISO-8859-1',\n",
      " 'date': 'Wed, 30 Mar 2022 19:27:49 GMT',\n",
      " 'expires': '-1',\n",
      " 'p3p': 'CP=\"This is not a P3P policy! See g.co/p3phelp for more info.\"',\n",
      " 'server': 'gws',\n",
      " 'set-cookie': '1P_JAR=2022-03-30-19; expires=Fri, 29-Apr-2022 19:27:49 GMT; '\n",
      "               'path=/; domain=.google.com; Secure, '\n",
      "               'AEC=AVQQ_LCWNPFjMoIyEwVgs06n_QfS5XoO27dRMlptcOBsMtn5Zzqt_M8zm_E; '\n",
      "               'expires=Mon, 26-Sep-2022 19:27:49 GMT; path=/; '\n",
      "               'domain=.google.com; Secure; HttpOnly; SameSite=lax, '\n",
      "               'NID=511=FxuThf7uqWXPgdfvv6uhQ7P1iTd0qghAzKaivOgSCQGpyl8EnALjvz6XqH343OQTSLzyRDgNn-HCgT2dR9HfcojkGNXFintUC1Bnefpw_TgJOQUapNolvNxvvIyAUgT0OEiEClmr1hyOtlaTN_zkF0yqT3wBrkHpmlMoMIvrD78; '\n",
      "               'expires=Thu, 29-Sep-2022 19:27:49 GMT; path=/; '\n",
      "               'domain=.google.com; HttpOnly',\n",
      " 'status': '200',\n",
      " 'x-frame-options': 'SAMEORIGIN',\n",
      " 'x-xss-protection': '0'}\n"
     ]
    }
   ],
   "source": [
    "pprint(resp)"
   ]
  },
  {
   "cell_type": "code",
   "execution_count": 15,
   "id": "839f0942",
   "metadata": {},
   "outputs": [
    {
     "data": {
      "text/plain": [
       "bytes"
      ]
     },
     "execution_count": 15,
     "metadata": {},
     "output_type": "execute_result"
    }
   ],
   "source": [
    "type(data)"
   ]
  },
  {
   "cell_type": "code",
   "execution_count": 16,
   "id": "5caea9cd",
   "metadata": {},
   "outputs": [
    {
     "data": {
      "text/plain": [
       "str"
      ]
     },
     "execution_count": 16,
     "metadata": {},
     "output_type": "execute_result"
    }
   ],
   "source": [
    "html = data.decode(\"ISO-8859-1\")\n",
    "\n",
    "type(html)"
   ]
  },
  {
   "cell_type": "code",
   "execution_count": 17,
   "id": "d2cc40f4",
   "metadata": {},
   "outputs": [
    {
     "name": "stdout",
     "output_type": "stream",
     "text": [
      "(b'<!doctype html><html itemscope=\"\" itemtype=\"http://schema.org/WebPage\" lang='\n",
      " b'\"pt-BR\"><head><meta content=\"text/html; charset=UTF-8\" http-equiv=\"Content-T'\n",
      " b'ype\"><meta content=\"/images/branding/googleg/1x/googleg_standard_color_128dp'\n",
      " b'.png\" itemprop=\"image\"><title>Google</title><script nonce=\"+qVucO8Pl1jCSGW3r'\n",
      " b'LZwWg==\">(function(){window.google={kEI:\\'Na9EYubyKMOMseMPt-Wa6As\\',kEXPI:'\n",
      " b\"'0,1302536,56873,6058,207,2414,2390,2316,383,246,5,1354,4013,1237,1122516,11\"\n",
      " b'97728,666,380097,16114,28684,17572,4858,1362,283,9008,3020,2824,14764,4020,9'\n",
      " b'78,13228,3847,4192,6430,22741,2370,2711,885,708,1279,2742,149,1103,842,6295,'\n",
      " b'4120,2023,1777,520,14670,3227,2845,7,17450,7540,8780,1851,15756,3,346,230,64'\n",
      " b'59,149,13975,4,1528,2304,6462,577,20309,1714,3050,2658,7355,32,901,10511,221'\n",
      " b'6,4437,9358,7428,651,5176,2530,4094,4052,3,3541,1,11942,4865,38,22202,2,3105'\n",
      " b',2,14022,1931,442,5147,126,618,5852,10463,1160,5679,1020,2381,2718,18279,2,3'\n",
      " b',6,7734,2124,2444,6255,20803,2618,830,422,5835,11861,3106,4333,2083,4006,139'\n",
      " b'5,445,2,2,1,1508,4886,4563,3819,6670,2337,843,152,1407,10,1,436,5776,2271,10'\n",
      " b'8,113,6469,799,13,174,2,2259,594,5214,2215,421,2852,936,7341,3421,2,3,6,327,'\n",
      " b'544,317,1451,2,1,3122,2707,85,1286,1410,914,786,3,770,3414,554,29,369,567,50'\n",
      " b'1,415,834,968,748,6,601,54,750,32,68,2150,255,116,1604,93,2,184,382,771,1216'\n",
      " b',75,227,110,87,1820,595,285,2,60,19,303,31,721,630,7,946,2,785,4,77,721,248,'\n",
      " b'115,384,5450702,2031,698,500,119,8796694,882,444,3,1877,1,2562,1,748,141,795'\n",
      " b',563,1,4265,1,1,2,1331,4142,2609,155,17,13,72,139,4,2,20,2,169,13,19,46,5,39'\n",
      " b',96,548,29,2,2,1,2,1,2,2,7,4,1,2,2,2,2,2,2,353,513,186,1,1,158,3,2,2,2,2,2,4'\n",
      " b',2,3,3,269,1601,141,1002,312,2,3,10,2,102,2,1,2,7,1,23951535,4038574,3,3112,'\n",
      " b\"3,450,1964,2935,159,1358,4726,3,2664,3588,1240,2174,7,1331,767401',kBL:'zIb2\"\n",
      " b\"'};google.sn='webhp';google.kHL='pt-BR';})();(function(){\\nvar f=this||se\"\n",
      " b'lf;var h,k=[];function l(a){for(var b;a&&(!a.getAttribute||!(b=a.getAttribut'\n",
      " b'e(\"eid\")));)a=a.parentNode;return b||h}function m(a){for(var b=null;a&&(!a.g'\n",
      " b'etAttribute||!(b=a.getAttribute(\"leid\")));)a=a.parentNode;return b}\\nfunc'\n",
      " b'tion n(a,b,c,d,g){var e=\"\";c||-1!==b.search(\"&ei=\")||(e=\"&ei=\"+l(d),-1===b.s'\n",
      " b'earch(\"&lei=\")&&(d=m(d))&&(e+=\"&lei=\"+d));d=\"\";!c&&f._cshid&&-1===b.search(\"'\n",
      " b'&cshid=\")&&\"slh\"!==a&&(d=\"&cshid=\"+f._cshid);c=c||\"/\"+(g||\"gen_204\")+\"?atyp='\n",
      " b'i&ct=\"+a+\"&cad=\"+b+e+\"&zx=\"+Date.now()+d;/^http:/i.test(c)&&\"https:\"===windo'\n",
      " b'w.location.protocol&&(google.ml&&google.ml(Error(\"a\"),!1,{src:c,glmm:1}),c=\"'\n",
      " b'\");return c};h=google.kEI;google.getEI=l;google.getLEI=m;google.ml=function('\n",
      " b'){return null};google.log=function(a,b,c,d,g){if(c=n(a,b,c,d,g)){a=new Image'\n",
      " b';var e=k.length;k[e]=a;a.onerror=a.onload=a.onabort=function(){delete k[e]};'\n",
      " b'a.src=c}};google.logUrl=n;}).call(this);(function(){\\ngoogle.y={};google.'\n",
      " b'sy=[];google.x=function(a,b){if(a)var c=a.id;else{do c=Math.random();while(g'\n",
      " b'oogle.y[c])}google.y[c]=[a,b];return!1};google.sx=function(a){google.sy.push'\n",
      " b'(a)};google.lm=[];google.plm=function(a){google.lm.push.apply(google.lm,a)};'\n",
      " b'google.lq=[];google.load=function(a,b,c){google.lq.push([[a],b,c])};google.l'\n",
      " b'oadAll=function(a,b){google.lq.push([a,b])};google.bx=!1;google.lx=function('\n",
      " b'){};}).call(this);google.f={};(function(){\\ndocument.documentElement.addE'\n",
      " b'ventListener(\"submit\",function(b){var a;if(a=b.target){var c=a.getAttribute('\n",
      " b'\"data-submitfalse\");a=\"1\"===c||\"q\"===c&&!a.elements.q.value?!0:!1}else a=!1;'\n",
      " b'a&&(b.preventDefault(),b.stopPropagation())},!0);document.documentElement.ad'\n",
      " b'dEventListener(\"click\",function(b){var a;a:{for(a=b.target;a&&a!==document.d'\n",
      " b'ocumentElement;a=a.parentElement)if(\"A\"===a.tagName){a=\"1\"===a.getAttribute('\n",
      " b'\"data-nohref\");break a}a=!1}a&&b.preventDefault()},!0);}).call(this);</scrip'\n",
      " b't><style>#gbar,#guser{font-size:13px;padding-top:1px !important;}#gbar{heigh'\n",
      " b't:22px}#guser{padding-bottom:7px !important;text-align:right}.gbh,.gbd{borde'\n",
      " b'r-top:1px solid #c9d7f1;font-size:1px}.gbh{height:0;position:absolute;top:24'\n",
      " b'px;width:100%}@media all{.gb1{height:22px;margin-right:.5em;vertical-align:t'\n",
      " b'op}#gbar{float:left}}a.gb1,a.gb4{text-decoration:underline !important}a.gb1,'\n",
      " b'a.gb4{color:#00c !important}.gbi .gb4{color:#dd8e27 !important}.gbf .gb4{col'\n",
      " b'or:#900 !important}\\n</style><style>body,td,a,p,.h{font-family:arial,sans'\n",
      " b'-serif}body{margin:0;overflow-y:scroll}#gog{padding:3px 8px 0}td{line-height'\n",
      " b':.8em}.gac_m td{line-height:17px}form{margin-bottom:20px}.h{color:#1558d6}em'\n",
      " b'{font-weight:bold;font-style:normal}.lst{height:25px;width:496px}.gsfi,.lst{'\n",
      " b'font:18px arial,sans-serif}.gsfs{font:17px arial,sans-serif}.ds{display:inli'\n",
      " b'ne-box;display:inline-block;margin:3px 0 4px;margin-left:4px}input{font-fami'\n",
      " b'ly:inherit}body{background:#fff;color:#000}a{color:#4b11a8;text-decoration:n'\n",
      " b'one}a:hover,a:active{text-decoration:underline}.fl a{color:#1558d6}a:visited'\n",
      " b'{color:#4b11a8}.sblc{padding-top:5px}.sblc a{display:block;margin:2px 0;marg'\n",
      " b'in-left:13px;font-size:11px}.lsbb{background:#f8f9fa;border:solid 1px;border'\n",
      " b'-color:#dadce0 #70757a #70757a #dadce0;height:30px}.lsbb{display:block}#WqQA'\n",
      " b'Nb a{display:inline-block;margin:0 12px}.lsb{background:url(/images/nav_logo'\n",
      " b'229.png) 0 -261px repeat-x;border:none;color:#000;cursor:pointer;height:30px'\n",
      " b';margin:0;outline:0;font:15px arial,sans-serif;vertical-align:top}.lsb:activ'\n",
      " b'e{background:#dadce0}.lst:focus{outline:none}.tiah{width:458px}</style><scri'\n",
      " b'pt nonce=\"+qVucO8Pl1jCSGW3rLZwWg==\">(function(){window.google.erd={jsr:1,bv:'\n",
      " b'1555,de:true};\\nvar f=this||self;var g,h=null!=(g=f.mei)?g:1,m,n=null!=(m'\n",
      " b'=f.sdo)?m:!0,p=0,q,r=google.erd,u=r.jsr;google.ml=function(a,b,d,k,c){c=void'\n",
      " b' 0===c?2:c;b&&(q=a&&a.message);if(google.dl)return google.dl(a,c,d),null;if('\n",
      " b'0>u){window.console&&console.error(a,d);if(-2===u)throw a;b=!1}else b=!a||!a'\n",
      " b'.message||\"Error loading script\"===a.message||p>=h&&!k?!1:!0;if(!b)return nu'\n",
      " b'll;p++;d=d||{};var e=c;c=encodeURIComponent;b=\"/gen_204?atyp=i&ei=\"+c(google'\n",
      " b'.kEI);google.kEXPI&&(b+=\"&jexpid=\"+c(google.kEXPI));b+=\"&srcpg=\"+c(google.sn'\n",
      " b')+\"&jsr=\"+c(r.jsr)+\"&bver=\"+c(r.bv)+(\"&jsel=\"+e);e=a.lineNumber;void 0!==e&&'\n",
      " b'(b+=\"&line=\"+\\ne);var l=a.fileName;l&&(b+=\"&script=\"+c(l),e&&l===window.l'\n",
      " b'ocation.href&&(e=document.documentElement.outerHTML.split(\"\\\\n\")[e],b+=\"&'\n",
      " b'cad=\"+c(e?e.substring(0,300):\"No script found.\")));for(var t in d)b+=\"&\",b+='\n",
      " b'c(t),b+=\"=\",b+=c(d[t]);b=b+\"&emsg=\"+c(a.name+\": \"+a.message);b=b+\"&jsst=\"+c('\n",
      " b'a.stack||\"N/A\");12288<=b.length&&(b=b.substr(0,12288));a=b;k||google.log(0,\"'\n",
      " b'\",a);return a};window.onerror=function(a,b,d,k,c){q!==a&&(a=c instanceof Err'\n",
      " b'or?c:Error(a),void 0===d||\"lineNumber\"in a||(a.lineNumber=d),void 0===b||\"fi'\n",
      " b'leName\"in a||(a.fileName=b),google.ml(a,!1,void 0,!1,\"SyntaxError\"===a.name|'\n",
      " b'|\"SyntaxError\"===a.message.substring(0,11)?2:0));q=null;n&&p>=h&&(window.one'\n",
      " b'rror=null)};})();</script></head><body bgcolor=\"#fff\"><script nonce=\"+qVucO8'\n",
      " b'Pl1jCSGW3rLZwWg==\">(function(){var src=\\'/images/nav_logo229.png\\';var ies'\n",
      " b'g=false;document.body.onload = function(){window.n && window.n();if (documen'\n",
      " b't.images){new Image().src=src;}\\nif (!iesg){document.f&&document.f.q.focu'\n",
      " b's();document.gbqf&&document.gbqf.q.focus();}\\n}\\n})();</script><div id=\"mn'\n",
      " b'gb\"><div id=gbar><nobr><b class=gb1>Pesquisa</b> <a class=gb1 href=\"http://w'\n",
      " b'ww.google.com.br/imghp?hl=pt-BR&tab=wi\">Imagens</a> <a class=gb1 href=\"http:'\n",
      " b'//maps.google.com.br/maps?hl=pt-BR&tab=wl\">Maps</a> <a class=gb1 href=\"https'\n",
      " b'://play.google.com/?hl=pt-BR&tab=w8\">Play</a> <a class=gb1 href=\"http://www.'\n",
      " b'youtube.com/?gl=BR&tab=w1\">YouTube</a> <a class=gb1 href=\"https://news.googl'\n",
      " b'e.com/?tab=wn\">Not\\xedcias</a> <a class=gb1 href=\"https://mail.google.com/m'\n",
      " b'ail/?tab=wm\">Gmail</a> <a class=gb1 href=\"https://drive.google.com/?tab=wo\">'\n",
      " b'Drive</a> <a class=gb1 style=\"text-decoration:none\" href=\"https://www.google'\n",
      " b'.com.br/intl/pt-BR/about/products?tab=wh\"><u>Mais</u> &raquo;</a></nobr></di'\n",
      " b'v><div id=guser width=100%><nobr><span id=gbn class=gbi></span><span id=gbf '\n",
      " b'class=gbf></span><span id=gbe></span><a href=\"http://www.google.com.br/histo'\n",
      " b'ry/optout?hl=pt-BR\" class=gb4>Hist\\xf3rico da Web</a> | <a  href=\"/preferen'\n",
      " b'ces?hl=pt-BR\" class=gb4>Configura\\xe7\\xf5es</a> | <a target=_top id=gb_70 '\n",
      " b'href=\"https://accounts.google.com/ServiceLogin?hl=pt-BR&passive=true&continu'\n",
      " b'e=http://www.google.com/&ec=GAZAAQ\" class=gb4>Fazer login</a></nobr></div><d'\n",
      " b'iv class=gbh style=left:0></div><div class=gbh style=right:0></div></div><ce'\n",
      " b'nter><br clear=\"all\" id=\"lgpd\"><div id=\"lga\"><img alt=\"Google\" height=\"92\" s'\n",
      " b'rc=\"/images/branding/googlelogo/1x/googlelogo_white_background_color_272x92d'\n",
      " b'p.png\" style=\"padding:28px 0 14px\" width=\"272\" id=\"hplogo\"><br><br></div><fo'\n",
      " b'rm action=\"/search\" name=\"f\"><table cellpadding=\"0\" cellspacing=\"0\"><tr vali'\n",
      " b'gn=\"top\"><td width=\"25%\">&nbsp;</td><td align=\"center\" nowrap=\"\"><input name'\n",
      " b'=\"ie\" value=\"ISO-8859-1\" type=\"hidden\"><input value=\"pt-BR\" name=\"hl\" type=\"'\n",
      " b'hidden\"><input name=\"source\" type=\"hidden\" value=\"hp\"><input name=\"biw\" type'\n",
      " b'=\"hidden\"><input name=\"bih\" type=\"hidden\"><div class=\"ds\" style=\"height:32px'\n",
      " b';margin:4px 0\"><div style=\"position:relative;zoom:1\"><input class=\"lst tiah\"'\n",
      " b' style=\"margin:0;padding:5px 8px 0 6px;vertical-align:top;color:#000;padding'\n",
      " b'-right:38px\" autocomplete=\"off\" value=\"\" title=\"Pesquisa Google\" maxlength=\"'\n",
      " b'2048\" name=\"q\" size=\"57\"><img src=\"/textinputassistant/tia.png\" style=\"posit'\n",
      " b'ion:absolute;cursor:pointer;right:5px;top:4px;z-index:300\" data-script-url=\"'\n",
      " b'/textinputassistant/11/pt-BR_tia.js\" id=\"tsuid1\" alt=\"\" height=\"23\" width=\"2'\n",
      " b'7\"><script nonce=\"+qVucO8Pl1jCSGW3rLZwWg==\">(function(){var id=\\'tsuid1\\';'\n",
      " b'document.getElementById(id).onclick = function(){var s = document.createElem'\n",
      " b\"ent('script');s.src = this.getAttribute('data-script-url');(document.getElem\"\n",
      " b\"entById('xjsc')||document.body).appendChild(s);};})();</script></div></div><\"\n",
      " b'br style=\"line-height:0\"><span class=\"ds\"><span class=\"lsbb\"><input class=\"l'\n",
      " b'sb\" value=\"Pesquisa Google\" name=\"btnG\" type=\"submit\"></span></span><span cl'\n",
      " b'ass=\"ds\"><span class=\"lsbb\"><input class=\"lsb\" id=\"tsuid2\" value=\"Estou com '\n",
      " b'sorte\" name=\"btnI\" type=\"submit\"><script nonce=\"+qVucO8Pl1jCSGW3rLZwWg==\">(f'\n",
      " b\"unction(){var id='tsuid2';document.getElementById(id).onclick = function(){i\"\n",
      " b'f (this.form.q.value){this.checked = 1;if (this.form.iflsig)this.form.iflsig'\n",
      " b\".disabled = false;}\\nelse top.location='/doodles/';};})();</script><input\"\n",
      " b' value=\"AHkkrS4AAAAAYkS9RZKQ1X5u2_ZnKi6nFyMDI8Ncn32F\" name=\"iflsig\" type=\"hi'\n",
      " b'dden\"></span></span></td><td class=\"fl sblc\" align=\"left\" nowrap=\"\" width=\"2'\n",
      " b'5%\"><a href=\"/advanced_search?hl=pt-BR&amp;authuser=0\">Pesquisa avan\\xe7ada'\n",
      " b'</a></td></tr></table><input id=\"gbv\" name=\"gbv\" type=\"hidden\" value=\"1\"><sc'\n",
      " b'ript nonce=\"+qVucO8Pl1jCSGW3rLZwWg==\">(function(){\\nvar a,b=\"1\";if(docume'\n",
      " b'nt&&document.getElementById)if(\"undefined\"!=typeof XMLHttpRequest)b=\"2\";else'\n",
      " b' if(\"undefined\"!=typeof ActiveXObject){var c,d,e=[\"MSXML2.XMLHTTP.6.0\",\"MSXM'\n",
      " b'L2.XMLHTTP.3.0\",\"MSXML2.XMLHTTP\",\"Microsoft.XMLHTTP\"];for(c=0;d=e[c++];)try{'\n",
      " b'new ActiveXObject(d),b=\"2\"}catch(h){}}a=b;if(\"2\"==a&&-1==location.search.ind'\n",
      " b'exOf(\"&gbv=2\")){var f=google.gbvu,g=document.getElementById(\"gbv\");g&&(g.val'\n",
      " b'ue=a);f&&window.setTimeout(function(){location.href=f},0)};}).call(this);</s'\n",
      " b'cript></form><div id=\"gac_scont\"></div><div style=\"font-size:83%;min-height:'\n",
      " b'3.5em\"><br></div><span id=\"footer\"><div style=\"font-size:10pt\"><div style=\"m'\n",
      " b'argin:19px auto;text-align:center\" id=\"WqQANb\"><a href=\"/intl/pt-BR/ads/\">So'\n",
      " b'lu\\xe7\\xf5es de publicidade</a><a href=\"/services/\">Solu\\xe7\\xf5es empresari'\n",
      " b'ais</a><a href=\"/intl/pt-BR/about.html\">Sobre o Google</a><a href=\"http://ww'\n",
      " b'w.google.com/setprefdomain?prefdom=BR&amp;prev=http://www.google.com.br/&amp'\n",
      " b';sig=K_zVABUfitx206T78gAMDpf878vr4%3D\">Google.com.br</a></div></div><p style'\n",
      " b'=\"font-size:8pt;color:#70757a\">&copy; 2022 - <a href=\"/intl/pt-BR/policies/p'\n",
      " b'rivacy/\">Privacidade</a> - <a href=\"/intl/pt-BR/policies/terms/\">Termos</a><'\n",
      " b'/p></span></center><script nonce=\"+qVucO8Pl1jCSGW3rLZwWg==\">(function(){wind'\n",
      " b'ow.google.cdo={height:757,width:1440};(function(){\\nvar a=window.innerWid'\n",
      " b'th,b=window.innerHeight;if(!a||!b){var c=window.document,d=\"CSS1Compat\"==c.c'\n",
      " b'ompatMode?c.documentElement:c.body;a=d.clientWidth;b=d.clientHeight}a&&b&&(a'\n",
      " b'!=google.cdo.width||b!=google.cdo.height)&&google.log(\"\",\"\",\"/client_204?&at'\n",
      " b'yp=i&biw=\"+a+\"&bih=\"+b+\"&ei=\"+google.kEI);}).call(this);})();</script> <scri'\n",
      " b'pt nonce=\"+qVucO8Pl1jCSGW3rLZwWg==\">(function(){google.xjs={ck:\\'\\',cs:\\'\\','\n",
      " b'excm:[]};})();</script>  <script nonce=\"+qVucO8Pl1jCSGW3rLZwWg==\">(function('\n",
      " b\"){var u='/xjs/_/js/k\\\\x3dxjs.hp.en.DfcTcxDpFPQ.O/am\\\\x3dAOAJAIAEIAE/d\\\\x3d1\"\n",
      " b'/ed\\\\x3d1/esmo\\\\x3d1/rs\\\\x3dACT90oFVykrUMoYPNQlALJe1Q1uz821frg/m\\\\x3dsb_he,d'\n",
      " b\"';\\nvar d=this||self,e=function(a){return a};var g;var l=function(a,b){th\"\n",
      " b'is.g=b===h?a:\"\"};l.prototype.toString=function(){return this.g+\"\"};var h={};'\n",
      " b'\\nfunction n(){var a=u;google.lx=function(){p(a);google.lx=function(){}};'\n",
      " b'google.bx||google.lx()}\\nfunction p(a){google.timers&&google.timers.load&'\n",
      " b'&google.tick&&google.tick(\"load\",\"xjsls\");var b=document;var c=\"SCRIPT\";\"app'\n",
      " b'lication/xhtml+xml\"===b.contentType&&(c=c.toLowerCase());c=b.createElement(c'\n",
      " b');if(void 0===g){b=null;var k=d.trustedTypes;if(k&&k.createPolicy){try{b=k.c'\n",
      " b'reatePolicy(\"goog#html\",{createHTML:e,createScript:e,createScriptURL:e})}cat'\n",
      " b'ch(q){d.console&&d.console.error(q.message)}g=b}else g=b}a=(b=g)?b.createScr'\n",
      " b'iptURL(a):a;a=new l(a,h);c.src=a instanceof l&&a.constructor===l?a.g:\"type_e'\n",
      " b'rror:TrustedResourceUrl\";var f,m;(f=(a=null==(m=(f=(c.ownerDocument&&c.owner'\n",
      " b'Document.defaultView||window).document).querySelector)?void 0:m.call(f,\"scri'\n",
      " b'pt[nonce]\"))?a.nonce||a.getAttribute(\"nonce\")||\"\":\"\")&&c.setAttribute(\"nonce'\n",
      " b'\",f);document.body.appendChild(c);google.psa=!0};google.xjsu=u;setTimeout(fu'\n",
      " b'nction(){n()},0);})();function _DumpException(e){throw e;}\\nfunction _F_i'\n",
      " b\"nstallCss(c){}\\n(function(){google.jl={attn:false,blt:'none',chnk:0,dw:fa\"\n",
      " b\"lse,dwu:true,emtn:0,end:0,ine:false,injs:'none',injt:0,lls:'default',pdt:0,r\"\n",
      " b\"ep:0,snet:true,strt:0,ubm:false,uwp:true};})();(function(){var pmc='{\\\\x2\"\n",
      " b'2d\\\\x22:{},\\\\x22sb_he\\\\x22:{\\\\x22agen\\\\x22:false,\\\\x22cgen\\\\x22:false,\\\\x22c'\n",
      " b'lient\\\\x22:\\\\x22heirloom-hp\\\\x22,\\\\x22dh\\\\x22:true,\\\\x22dhqt\\\\x22:true,\\\\x22'\n",
      " b'ds\\\\x22:\\\\x22\\\\x22,\\\\x22ffql\\\\x22:\\\\x22pt-BR\\\\x22,\\\\x22fl\\\\x22:true,\\\\x22h'\n",
      " b'ost\\\\x22:\\\\x22google.com\\\\x22,\\\\x22isbh\\\\x22:28,\\\\x22jsonp\\\\x22:true,\\\\x22ms'\n",
      " b'gs\\\\x22:{\\\\x22cibl\\\\x22:\\\\x22Limpar pesquisa\\\\x22,\\\\x22dym\\\\x22:\\\\x22Voc'\n",
      " b'\\xea quis dizer:\\\\x22,\\\\x22lcky\\\\x22:\\\\x22Estou com sorte\\\\x22,\\\\x22lml\\\\x'\n",
      " b'22:\\\\x22Saiba mais\\\\x22,\\\\x22oskt\\\\x22:\\\\x22Ferramentas de inser\\xe7\\xe3o d'\n",
      " b'e texto\\\\x22,\\\\x22psrc\\\\x22:\\\\x22Esta pesquisa foi removida do seu\\\\\\\\u003'\n",
      " b'Ca href\\\\x3d\\\\\\\\\\\\x22/history\\\\\\\\\\\\x22\\\\\\\\u003EHist\\xf3rico da web\\\\\\\\u003'\n",
      " b'C/a\\\\\\\\u003E\\\\x22,\\\\x22psrl\\\\x22:\\\\x22Remover\\\\x22,\\\\x22sbit\\\\x22:\\\\x22Pes'\n",
      " b'quisa por imagem\\\\x22,\\\\x22srch\\\\x22:\\\\x22Pesquisa Google\\\\x22},\\\\x22ovr\\\\x'\n",
      " b'22:{},\\\\x22pq\\\\x22:\\\\x22\\\\x22,\\\\x22refpd\\\\x22:true,\\\\x22rfs\\\\x22:[],\\\\x22'\n",
      " b'sbas\\\\x22:\\\\x220 3px 8px 0 rgba(0,0,0,0.2),0 0 0 1px rgba(0,0,0,0.08)\\\\x22,'\n",
      " b'\\\\x22sbpl\\\\x22:16,\\\\x22sbpr\\\\x22:16,\\\\x22scd\\\\x22:10,\\\\x22stok\\\\x22:\\\\x22'\n",
      " b\"7v7axlD2ortbtLNSyG4OXbrXpxk\\\\x22,\\\\x22uhde\\\\x22:false}}';google.pmc=JSON.pa\"\n",
      " b'rse(pmc);})();</script>        </body></html>')\n"
     ]
    }
   ],
   "source": [
    "pprint(data)"
   ]
  },
  {
   "cell_type": "code",
   "execution_count": 18,
   "id": "033cb471",
   "metadata": {},
   "outputs": [
    {
     "name": "stdout",
     "output_type": "stream",
     "text": [
      "{'access-control-allow-credentials': 'true',\n",
      " 'access-control-allow-origin': '*',\n",
      " 'connection': 'keep-alive',\n",
      " 'content-length': '9593',\n",
      " 'content-location': 'https://httpbin.org/',\n",
      " 'content-type': 'text/html; charset=utf-8',\n",
      " 'date': 'Wed, 30 Mar 2022 19:27:50 GMT',\n",
      " 'server': 'gunicorn/19.9.0',\n",
      " 'status': '200'}\n"
     ]
    }
   ],
   "source": [
    "resp, data = http.request(bin_url, method='HEAD')\n",
    "\n",
    "pprint(resp)"
   ]
  },
  {
   "cell_type": "code",
   "execution_count": 19,
   "id": "48d11b11",
   "metadata": {},
   "outputs": [
    {
     "name": "stdout",
     "output_type": "stream",
     "text": [
      "{'access-control-allow-credentials': 'true',\n",
      " 'access-control-allow-origin': '*',\n",
      " 'connection': 'keep-alive',\n",
      " 'content-length': '294',\n",
      " 'content-location': 'https://httpbin.org/get',\n",
      " 'content-type': 'application/json',\n",
      " 'date': 'Wed, 30 Mar 2022 19:27:50 GMT',\n",
      " 'server': 'gunicorn/19.9.0',\n",
      " 'status': '200'}\n"
     ]
    }
   ],
   "source": [
    "resp, data = http.request('https://httpbin.org/get', method='GET')\n",
    "\n",
    "pprint(resp)"
   ]
  },
  {
   "cell_type": "code",
   "execution_count": 20,
   "id": "a8cd4d8d",
   "metadata": {},
   "outputs": [],
   "source": [
    "post_data = '{\"name\": \"Alice\", \"college\": \"Harvard\"}'"
   ]
  },
  {
   "cell_type": "code",
   "execution_count": 21,
   "id": "d8f49fda",
   "metadata": {},
   "outputs": [
    {
     "name": "stdout",
     "output_type": "stream",
     "text": [
      "{'access-control-allow-credentials': 'true',\n",
      " 'access-control-allow-origin': '*',\n",
      " 'connection': 'keep-alive',\n",
      " 'content-length': '523',\n",
      " 'content-type': 'application/json',\n",
      " 'date': 'Wed, 30 Mar 2022 19:27:50 GMT',\n",
      " 'server': 'gunicorn/19.9.0',\n",
      " 'status': '200'}\n"
     ]
    }
   ],
   "source": [
    "resp, data = http.request('https://httpbin.org/post', \n",
    "                          method='POST', \n",
    "                          body=post_data, \n",
    "                          headers={'content-type':'application/json'})\n",
    "\n",
    "pprint(resp)"
   ]
  },
  {
   "cell_type": "code",
   "execution_count": 22,
   "id": "75312802",
   "metadata": {},
   "outputs": [
    {
     "name": "stdout",
     "output_type": "stream",
     "text": [
      "('{\\n'\n",
      " '  \"args\": {}, \\n'\n",
      " '  \"data\": \"{\\\\\"name\\\\\": \\\\\"Alice\\\\\", \\\\\"college\\\\\": \\\\\"Harvard\\\\\"}\", \\n'\n",
      " '  \"files\": {}, \\n'\n",
      " '  \"form\": {}, \\n'\n",
      " '  \"headers\": {\\n'\n",
      " '    \"Accept-Encoding\": \"gzip, deflate\", \\n'\n",
      " '    \"Content-Length\": \"39\", \\n'\n",
      " '    \"Content-Type\": \"application/json\", \\n'\n",
      " '    \"Host\": \"httpbin.org\", \\n'\n",
      " '    \"User-Agent\": \"Python-httplib2/0.20.4 (gzip)\", \\n'\n",
      " '    \"X-Amzn-Trace-Id\": \"Root=1-6244af36-2a7a11251818d762749b099a\"\\n'\n",
      " '  }, \\n'\n",
      " '  \"json\": {\\n'\n",
      " '    \"college\": \"Harvard\", \\n'\n",
      " '    \"name\": \"Alice\"\\n'\n",
      " '  }, \\n'\n",
      " '  \"origin\": \"191.185.159.149\", \\n'\n",
      " '  \"url\": \"https://httpbin.org/post\"\\n'\n",
      " '}\\n')\n"
     ]
    }
   ],
   "source": [
    "pprint(data.decode('UTF-8'))"
   ]
  },
  {
   "cell_type": "code",
   "execution_count": 23,
   "id": "68754011",
   "metadata": {},
   "outputs": [
    {
     "name": "stdout",
     "output_type": "stream",
     "text": [
      "{'access-control-allow-credentials': 'true',\n",
      " 'access-control-allow-origin': '*',\n",
      " 'connection': 'keep-alive',\n",
      " 'content-length': '522',\n",
      " 'content-type': 'application/json',\n",
      " 'date': 'Wed, 30 Mar 2022 19:27:51 GMT',\n",
      " 'server': 'gunicorn/19.9.0',\n",
      " 'status': '200'}\n"
     ]
    }
   ],
   "source": [
    "resp, data = http.request('https://httpbin.org/put', \n",
    "                          method='PUT', \n",
    "                          body=post_data, \n",
    "                          headers={'content-type':'application/json'})\n",
    "\n",
    "pprint(resp)"
   ]
  },
  {
   "cell_type": "code",
   "execution_count": 24,
   "id": "f1fa9a96",
   "metadata": {},
   "outputs": [
    {
     "name": "stdout",
     "output_type": "stream",
     "text": [
      "('{\\n'\n",
      " '  \"args\": {}, \\n'\n",
      " '  \"data\": \"{\\\\\"name\\\\\": \\\\\"Alice\\\\\", \\\\\"college\\\\\": \\\\\"Harvard\\\\\"}\", \\n'\n",
      " '  \"files\": {}, \\n'\n",
      " '  \"form\": {}, \\n'\n",
      " '  \"headers\": {\\n'\n",
      " '    \"Accept-Encoding\": \"gzip, deflate\", \\n'\n",
      " '    \"Content-Length\": \"39\", \\n'\n",
      " '    \"Content-Type\": \"application/json\", \\n'\n",
      " '    \"Host\": \"httpbin.org\", \\n'\n",
      " '    \"User-Agent\": \"Python-httplib2/0.20.4 (gzip)\", \\n'\n",
      " '    \"X-Amzn-Trace-Id\": \"Root=1-6244af37-79b1671d647e64b917972ab6\"\\n'\n",
      " '  }, \\n'\n",
      " '  \"json\": {\\n'\n",
      " '    \"college\": \"Harvard\", \\n'\n",
      " '    \"name\": \"Alice\"\\n'\n",
      " '  }, \\n'\n",
      " '  \"origin\": \"191.185.159.149\", \\n'\n",
      " '  \"url\": \"https://httpbin.org/put\"\\n'\n",
      " '}\\n')\n"
     ]
    }
   ],
   "source": [
    "pprint(data.decode('UTF-8'))"
   ]
  },
  {
   "cell_type": "code",
   "execution_count": 25,
   "id": "311cd7db",
   "metadata": {},
   "outputs": [
    {
     "data": {
      "text/plain": [
       "True"
      ]
     },
     "execution_count": 25,
     "metadata": {},
     "output_type": "execute_result"
    }
   ],
   "source": [
    "http.follow_redirects"
   ]
  },
  {
   "cell_type": "code",
   "execution_count": 26,
   "id": "e875440e",
   "metadata": {},
   "outputs": [
    {
     "data": {
      "text/plain": [
       "False"
      ]
     },
     "execution_count": 26,
     "metadata": {},
     "output_type": "execute_result"
    }
   ],
   "source": [
    "http.follow_all_redirects"
   ]
  },
  {
   "cell_type": "code",
   "execution_count": 27,
   "id": "1e9dd045",
   "metadata": {},
   "outputs": [
    {
     "name": "stdout",
     "output_type": "stream",
     "text": [
      "{'connection': 'keep-alive',\n",
      " 'content-length': '0',\n",
      " 'content-type': 'text/plain; charset=utf-8',\n",
      " 'date': 'Wed, 30 Mar 2022 19:27:51 GMT',\n",
      " 'server': 'awselb/2.0',\n",
      " 'status': '404'}\n"
     ]
    }
   ],
   "source": [
    "resp, data = http.request('https://httpbin.org/absolute-redirect/1', \n",
    "                          method='GET')\n",
    "\n",
    "pprint(resp)"
   ]
  },
  {
   "cell_type": "code",
   "execution_count": 28,
   "id": "6a643ac8",
   "metadata": {},
   "outputs": [],
   "source": [
    "resp.previous"
   ]
  },
  {
   "cell_type": "code",
   "execution_count": 29,
   "id": "f35d3eb4",
   "metadata": {},
   "outputs": [
    {
     "name": "stdout",
     "output_type": "stream",
     "text": [
      "{'connection': 'keep-alive',\n",
      " 'content-length': '0',\n",
      " 'content-type': 'text/plain; charset=utf-8',\n",
      " 'date': 'Wed, 30 Mar 2022 19:31:42 GMT',\n",
      " 'server': 'awselb/2.0',\n",
      " 'status': '404'}\n"
     ]
    }
   ],
   "source": [
    "resp, data = http.request('https://httpbin.org/redirect-to?url=https://google.com&status_code=200', \n",
    "                          method='GET')\n",
    "\n",
    "pprint(resp)"
   ]
  },
  {
   "cell_type": "code",
   "execution_count": null,
   "id": "a13f8cc3",
   "metadata": {},
   "outputs": [],
   "source": []
  }
 ],
 "metadata": {
  "kernelspec": {
   "display_name": "Python 3 (ipykernel)",
   "language": "python",
   "name": "python3"
  },
  "language_info": {
   "codemirror_mode": {
    "name": "ipython",
    "version": 3
   },
   "file_extension": ".py",
   "mimetype": "text/x-python",
   "name": "python",
   "nbconvert_exporter": "python",
   "pygments_lexer": "ipython3",
   "version": "3.10.2"
  }
 },
 "nbformat": 4,
 "nbformat_minor": 5
}
